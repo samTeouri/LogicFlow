{
  "cells": [
    {
      "cell_type": "markdown",
      "metadata": {
        "id": "1LJ92_VAku-w"
      },
      "source": [
        "<a href=\"https://colab.research.google.com/github/EmmanuelADAM/IntelligenceArtificiellePython/blob/master/GymFrozenLakeQLearning.ipynb\" target=\"_parent\">Ouvrir sous colab</a>"
      ]
    },
    {
      "cell_type": "markdown",
      "metadata": {
        "id": "OL_hyb-dku-y"
      },
      "source": [
        "# Machine Learning\n",
        "## Appliqué à [Gym.OpenAI](https://gym.openai.com)"
      ]
    },
    {
      "cell_type": "markdown",
      "metadata": {
        "id": "pVKtPF4hku-z"
      },
      "source": [
        "---\n",
        "## Test de ML par Q-Learning pour atteindre l'objectif\n",
        "\n",
        "**Utilisation de l'environnement Gym**\n",
        " (voir la page d'introduction à [Gym](https://gym.openai.com))."
      ]
    },
    {
      "cell_type": "markdown",
      "metadata": {
        "id": "7ESHLCYGku-z"
      },
      "source": [
        "#### Si besoin, importer gym"
      ]
    },
    {
      "cell_type": "code",
      "execution_count": null,
      "metadata": {
        "id": "4srznSoSku-0",
        "outputId": "ac03bdf0-e3f2-4f45-e944-098edb6f3b5a",
        "colab": {
          "base_uri": "https://localhost:8080/"
        }
      },
      "outputs": [
        {
          "output_type": "stream",
          "name": "stdout",
          "text": [
            "Requirement already satisfied: gymnasium in /usr/local/lib/python3.11/dist-packages (1.1.0)\n",
            "Requirement already satisfied: numpy>=1.21.0 in /usr/local/lib/python3.11/dist-packages (from gymnasium) (1.26.4)\n",
            "Requirement already satisfied: cloudpickle>=1.2.0 in /usr/local/lib/python3.11/dist-packages (from gymnasium) (3.1.1)\n",
            "Requirement already satisfied: typing-extensions>=4.3.0 in /usr/local/lib/python3.11/dist-packages (from gymnasium) (4.12.2)\n",
            "Requirement already satisfied: farama-notifications>=0.0.1 in /usr/local/lib/python3.11/dist-packages (from gymnasium) (0.0.4)\n"
          ]
        }
      ],
      "source": [
        "!pip install gymnasium"
      ]
    },
    {
      "cell_type": "markdown",
      "metadata": {
        "tags": [],
        "id": "NlvMft4Rku-2"
      },
      "source": [
        "----\n",
        "#### L'environnement FrozenLake"
      ]
    },
    {
      "cell_type": "code",
      "execution_count": 2,
      "metadata": {
        "id": "RrChY_udku-2"
      },
      "outputs": [],
      "source": [
        "import gymnasium as gym"
      ]
    },
    {
      "cell_type": "markdown",
      "metadata": {
        "id": "xn3swuM5ku-2"
      },
      "source": [
        "---\n",
        "- Utiliser l'environnement `FrozenLake en mode 8x8 en mode texte` (un labyrinthe)\n",
        "  - il est possible d'utiliser cet environnement en mode 'slipery', alors appliquer une *action n'est pas déterministe !*\n",
        "    - à partir d'une case \"gelée\", aller à droite peut .. mener à droite, ou en haut ou en bas....\n",
        "    - => intérêt du Q-Learning adapté à ce type d'environnement probabiliste\n",
        "- Le labyrinthe est ainsi composé de zones glacées, de puits, et d'un objectif contenant une récompense\n",
        "\n",
        "\n",
        "**N.B.**\n",
        "  - *Cet environnement fonctionne bien sous colab, jupyterlab.. quelques soucis de l'affichage de l'état courant (carré rouge) sous Pyzo....*\n",
        "  - Il est fortement conseillé de débuter avec un environnement déterministe pour évaluer la bonne marche de l'algo de Q-Learning que vous aurez développer.."
      ]
    },
    {
      "cell_type": "markdown",
      "metadata": {
        "id": "9DnbWqvrku-3"
      },
      "source": [
        "---\n",
        "#### Etude de l'environnement"
      ]
    },
    {
      "cell_type": "code",
      "execution_count": null,
      "metadata": {
        "id": "5WLGdGFwku-3",
        "outputId": "4904f0e4-ce43-46ba-c8c6-c0a17282913d",
        "colab": {
          "base_uri": "https://localhost:8080/"
        }
      },
      "outputs": [
        {
          "output_type": "stream",
          "name": "stdout",
          "text": [
            "specification de l'environnement :  EnvSpec(id='FrozenLake-v1', entry_point='gymnasium.envs.toy_text.frozen_lake:FrozenLakeEnv', reward_threshold=0.7, nondeterministic=False, max_episode_steps=100, order_enforce=True, disable_env_checker=False, kwargs={'map_name': '4x4', 'is_slippery': False, 'render_mode': 'ansi'}, namespace=None, name='FrozenLake', version=1, additional_wrappers=(), vector_entry_point=None)\n",
            "espace d'actions :  Discrete(4)  => 4 actions \"discretes\" (non continues)\n",
            "espace d'etats :  Discrete(16)  => 16 etats distincts\n",
            "Environnement et etat initial (en rouge) : \n",
            "\n",
            "\u001b[41mS\u001b[0mFFF\n",
            "FHFH\n",
            "FFFH\n",
            "HFFG\n",
            "\n",
            "S = Start (pos 0), G = Goal (pos 15), H = Hole, F = Frozen place\n",
            "Prendre une action au hasard : \n",
            "action choisie= 2 ; l'exécuter...\n",
            "nouvel état=1, recompense sur cet etat=0.0, etat final (but ou trou)=False, etat feuille=False, info={'prob': 1.0}\n",
            "  (Right)\n",
            "S\u001b[41mF\u001b[0mFF\n",
            "FHFH\n",
            "FFFH\n",
            "HFFG\n",
            "\n"
          ]
        }
      ],
      "source": [
        "env = gym.make('FrozenLake-v1', map_name=\"4x4\", is_slippery=False, render_mode='ansi')\n",
        "# tester map_name=\"8x8\" pour l'environnement plus large\n",
        "print(\"specification de l'environnement : \", env.spec)\n",
        "print(\"espace d'actions : \", env.action_space , \" => 4 actions \\\"discretes\\\" (non continues)\") #ici 4 actions discrétisée\n",
        "print(\"espace d'etats : \", env.observation_space , \" => 16 etats distincts\") #ici 4x4 cellules possibles\n",
        "\n",
        "env.reset()\n",
        "print(\"Environnement et etat initial (en rouge) : \")\n",
        "print(env.render())\n",
        "print(\"S = Start (pos 0), G = Goal (pos 15), H = Hole, F = Frozen place\")\n",
        "\n",
        "print(\"Prendre une action au hasard : \")\n",
        "a = 2 #env.action_space.sample()\n",
        "print(\"action choisie=\",a,\"; l'exécuter...\")\n",
        "#on recupère des valeurs en retour\n",
        "new_s, reward, done, truncated, info = env.step(a)\n",
        "print(f\"nouvel état={new_s}, recompense sur cet etat={reward}, etat final (but ou trou)={done}, etat feuille={truncated}, info={info}\")\n",
        "print(env.render())\n"
      ]
    },
    {
      "cell_type": "markdown",
      "metadata": {
        "id": "6xzKcLoGku-5"
      },
      "source": [
        "---\n",
        "#### Test des actions\n",
        "\n",
        "Sous Gym, `step` permet d'effectuer une action.\n",
        "En retour la fonction retourne une observation sur l'etat d'arrivee, sa recompense, son type (final ou non), et des informations.\n",
        "Ici, dans FrozenLake,\n",
        "- observation = position où se trouve l'agent\n",
        "- reward = recompense\n",
        "- done = vrai si but atteint\n",
        "- info = probabilité de succès de l'action\n",
        "  - en mode déterministe, sol non glissant, la proba de réussite est de 100%\n",
        "  - en mode non déterministe, sol glissant, la proba de réussite est de 30%"
      ]
    },
    {
      "cell_type": "markdown",
      "metadata": {
        "id": "vMq7jAfqku-6"
      },
      "source": [
        "---\n",
        "**Cas non déterministe**"
      ]
    },
    {
      "cell_type": "code",
      "execution_count": null,
      "metadata": {
        "id": "HmrhqAmFku-6"
      },
      "outputs": [],
      "source": [
        "env = gym.make('FrozenLake-v1', map_name=\"4x4\", is_slippery=False, render_mode='ansi')"
      ]
    },
    {
      "cell_type": "code",
      "execution_count": null,
      "metadata": {
        "id": "x9cbgS46ku-7",
        "outputId": "25a88f79-57b2-4eed-e9d1-3e52a5143a98",
        "colab": {
          "base_uri": "https://localhost:8080/"
        }
      },
      "outputs": [
        {
          "output_type": "stream",
          "name": "stdout",
          "text": [
            "  (Down)\n",
            "SFFF\n",
            "\u001b[41mF\u001b[0mHFH\n",
            "FFFH\n",
            "HFFG\n",
            "\n",
            "pos° actuelle: 4, gain: 0.0, fini: False, info: {'prob': 1.0}\n"
          ]
        }
      ],
      "source": [
        "###### Test des actions\n",
        "env.reset()\n",
        "action = 1\n",
        "observation, reward, done, _, info = env.step(action)\n",
        "print(env.render())\n",
        "print(f\"pos° actuelle: {observation}, gain: {reward}, fini: {done}, info: {info}\")"
      ]
    },
    {
      "cell_type": "code",
      "execution_count": null,
      "metadata": {
        "id": "i09VNuN0ku-7",
        "outputId": "2ae3dd65-18de-4556-80e0-5855eef284c8",
        "colab": {
          "base_uri": "https://localhost:8080/"
        }
      },
      "outputs": [
        {
          "output_type": "stream",
          "name": "stdout",
          "text": [
            "  (Right)\n",
            "SFFF\n",
            "F\u001b[41mH\u001b[0mFH\n",
            "FFFH\n",
            "HFFG\n",
            "\n",
            "pos° actuelle: 5, gain: 0.0, fini: True, info: {'prob': 1.0}\n"
          ]
        }
      ],
      "source": [
        "action = 2\n",
        "observation, reward, done, _, info = env.step(action)\n",
        "print(env.render())\n",
        "print(f\"pos° actuelle: {observation}, gain: {reward}, fini: {done}, info: {info}\")"
      ]
    },
    {
      "cell_type": "code",
      "execution_count": null,
      "metadata": {
        "id": "c0DOJu5Hku-8",
        "outputId": "ea5767ed-64d0-45d2-cd17-d6579d4bf32b",
        "colab": {
          "base_uri": "https://localhost:8080/"
        }
      },
      "outputs": [
        {
          "output_type": "stream",
          "name": "stdout",
          "text": [
            "  (Right)\n",
            "S\u001b[41mF\u001b[0mFF\n",
            "FHFH\n",
            "FFFH\n",
            "HFFG\n",
            "\n",
            "pos° actuelle: 1, gain: 0.0, fini: False, info: {'prob': 1.0}\n",
            "  (Right)\n",
            "SF\u001b[41mF\u001b[0mF\n",
            "FHFH\n",
            "FFFH\n",
            "HFFG\n",
            "\n",
            "pos° actuelle: 2, gain: 0.0, fini: False, info: {'prob': 1.0}\n",
            "  (Down)\n",
            "SFFF\n",
            "FH\u001b[41mF\u001b[0mH\n",
            "FFFH\n",
            "HFFG\n",
            "\n",
            "pos° actuelle: 6, gain: 0.0, fini: False, info: {'prob': 1.0}\n",
            "  (Down)\n",
            "SFFF\n",
            "FHFH\n",
            "FF\u001b[41mF\u001b[0mH\n",
            "HFFG\n",
            "\n",
            "pos° actuelle: 10, gain: 0.0, fini: False, info: {'prob': 1.0}\n",
            "  (Down)\n",
            "SFFF\n",
            "FHFH\n",
            "FFFH\n",
            "HF\u001b[41mF\u001b[0mG\n",
            "\n",
            "pos° actuelle: 14, gain: 0.0, fini: False, info: {'prob': 1.0}\n",
            "  (Down)\n",
            "SFFF\n",
            "FHFH\n",
            "FFFH\n",
            "HF\u001b[41mF\u001b[0mG\n",
            "\n",
            "pos° actuelle: 14, gain: 0.0, fini: False, info: {'prob': 1.0}\n",
            "  (Right)\n",
            "SFFF\n",
            "FHFH\n",
            "FFFH\n",
            "HFF\u001b[41mG\u001b[0m\n",
            "\n",
            "pos° actuelle: 15, gain: 1.0, fini: True, info: {'prob': 1.0}\n"
          ]
        }
      ],
      "source": [
        "env.reset()\n",
        "actions = [2,2,1,1,1,1,2]\n",
        "for a in actions:\n",
        "    observation, reward, done, _, info = env.step(a)\n",
        "    print(env.render())\n",
        "    print(f\"pos° actuelle: {observation}, gain: {reward}, fini: {done}, info: {info}\")"
      ]
    },
    {
      "cell_type": "markdown",
      "metadata": {
        "id": "Hh1N2XKUku-8"
      },
      "source": [
        "---\n",
        "**Cas non déterministe**\n",
        "\n",
        "L'environnement FrozenLake peut également être chargé en mode non déterministe : chaque état est une case gelée, et **chaque action qui s'y déroule n'a qu'une chance sur trois de réussir !**\n",
        "\n",
        "Chargeons l'environnement dans ce mode et testons les actions à partir de l'état initial :"
      ]
    },
    {
      "cell_type": "code",
      "execution_count": null,
      "metadata": {
        "id": "AAyXr1nnku-9"
      },
      "outputs": [],
      "source": [
        "env = gym.make('FrozenLake-v1', map_name=\"4x4\", is_slippery=True, render_mode='ansi')"
      ]
    },
    {
      "cell_type": "code",
      "execution_count": null,
      "metadata": {
        "id": "fvBp_QPpku-9",
        "outputId": "f7be57e8-e74c-4174-c000-48a2965fb575",
        "colab": {
          "base_uri": "https://localhost:8080/"
        }
      },
      "outputs": [
        {
          "output_type": "stream",
          "name": "stdout",
          "text": [
            "  (Left)\n",
            "SFFF\n",
            "\u001b[41mF\u001b[0mHFH\n",
            "FFFH\n",
            "HFFG\n",
            "\n",
            "pos° actuelle: 4, gain: 0.0, fini: False, info: {'prob': 0.3333333333333333}\n"
          ]
        }
      ],
      "source": [
        "env.reset()\n",
        "action = 0\n",
        "observation, reward, done, _, info = env.step(action)\n",
        "print(env.render())\n",
        "print(f\"pos° actuelle: {observation}, gain: {reward}, fini: {done}, info: {info}\")"
      ]
    },
    {
      "cell_type": "code",
      "execution_count": null,
      "metadata": {
        "id": "MaAckuSPku--",
        "outputId": "814f4480-9db1-432f-a182-e9435351dece",
        "colab": {
          "base_uri": "https://localhost:8080/"
        }
      },
      "outputs": [
        {
          "output_type": "stream",
          "name": "stdout",
          "text": [
            "  (Down)\n",
            "S\u001b[41mF\u001b[0mFF\n",
            "FHFH\n",
            "FFFH\n",
            "HFFG\n",
            "\n",
            "pos° actuelle: 1, gain: 0.0, fini: False, info: {'prob': 0.3333333333333333}\n"
          ]
        }
      ],
      "source": [
        "env.reset()\n",
        "action = 1\n",
        "observation, reward, done, _, info = env.step(action)\n",
        "print(env.render())\n",
        "print(f\"pos° actuelle: {observation}, gain: {reward}, fini: {done}, info: {info}\")"
      ]
    },
    {
      "cell_type": "markdown",
      "metadata": {
        "id": "IYWdG46Dku-_"
      },
      "source": [
        "On est clairement ici dans un environnement non déterministe (une même action à partir d'un même état ne mène pas toujours au même résultat); c'est le contexte de prédilection de l'algo de Q-Learning..."
      ]
    },
    {
      "cell_type": "markdown",
      "metadata": {
        "id": "0NphqhZsku-_"
      },
      "source": [
        "---\n",
        "### <font color=\"red\">Premiere résolution en mode déterministe</font>\n",
        "Important, pour valider l'apprentissage de votre algorithme avant de passer en mode non-déterministe, il vaut mieux le tester sur un environnement où chaque action à 100% de réussite. Ci-dessous un exemple sur le mini labyrinthe."
      ]
    },
    {
      "cell_type": "markdown",
      "metadata": {
        "id": "lrtspDvsku-_"
      },
      "source": [
        "---\n",
        "## Exemple d'algorithme"
      ]
    },
    {
      "cell_type": "code",
      "execution_count": 9,
      "metadata": {
        "id": "zLbgFPQ6ku-_"
      },
      "outputs": [],
      "source": [
        "import numpy as np\n",
        "import random as rnd\n",
        "from tqdm import tqdm\n",
        "\n",
        "env = gym.make('FrozenLake-v1', map_name=\"8x8\", is_slippery=False, render_mode='ansi')\n",
        "actions = {0:'Gauche', 1:'Bas', 2:'Droite', 3:'Haut'}\n",
        "directions = {0: \"←\", 1: \"↓\", 2: \"→\", 3: \"↑\"}"
      ]
    },
    {
      "cell_type": "code",
      "execution_count": null,
      "metadata": {
        "id": "vMpXFQ8Nku_A"
      },
      "outputs": [],
      "source": [
        "# initialiser la Q-Table\n",
        "# autant de cases que l'environnement en possède,\n",
        "# contenant autant de valeurs que d'actions possibles\n",
        "# donc ici une matrice 64 x 4\n",
        "Q = np.zeros([env.observation_space.n,env.action_space.n])"
      ]
    },
    {
      "cell_type": "markdown",
      "metadata": {
        "id": "zYBJ8B5Cku_A"
      },
      "source": [
        "### Mise en place des paramètres\n",
        "Pour rappel l'algo de Q Learning simple repose sur cette équation :\n",
        "$Q(s,a) \\gets \\lambda \\times (r + \\gamma \\times max_{a'}(Q(s', a'))) + (1-\\lambda ) \\times Q(s,a)$ avec\n",
        "  - $\\lambda$ : coef d'apprentissage\n",
        "  - $\\gamma$ : coef de réduction\n",
        "  - $r$ : récompense\n",
        "  \n",
        "Cette équation donne la qualité de l'action *a* à partir de l'état *s*.\n",
        "\n",
        "Initialement, les actions sont choisies aléatoirement et notées; puis au fil des tests les actions les plus valuées sont choisies. Pour cela, un tirage est effectuée, s'il est inférieur à un $\\epsilon$, le choix est aléatoire. Cet $\\epsilon$ décroit au fil des tests."
      ]
    },
    {
      "cell_type": "code",
      "execution_count": null,
      "metadata": {
        "id": "llHPjoa_ku_B"
      },
      "outputs": [],
      "source": [
        "lambda_learn = .2\n",
        "gamma = 0.8\n",
        "epsilon = 1."
      ]
    },
    {
      "cell_type": "markdown",
      "metadata": {
        "id": "Y71S-Swxku_B"
      },
      "source": [
        "#### Récupérer la meilleure action\n",
        "`argmax(tab)` retourne l'indice de la plus grande valeur du tableau.\n",
        "\n",
        "`argmax(Q[2])` retourne donc le no de l'action la plus intéressante à partir de l'état 2."
      ]
    },
    {
      "cell_type": "markdown",
      "metadata": {
        "id": "TJFBBnUOku_B"
      },
      "source": [
        "## L'algorithme de Q-Learning simple"
      ]
    },
    {
      "cell_type": "code",
      "execution_count": null,
      "metadata": {
        "id": "zep5B7Kvku_C"
      },
      "outputs": [],
      "source": [
        "##algorithme de Q-Learning simple\n",
        "def q_learn(nb_actions=64):\n",
        "    \"\"\"\n",
        "    effectue un cycle d'apprentissage/recherche de solution' via le Q-Learning simple\n",
        "\n",
        "    Parameters\n",
        "    ----------\n",
        "    epoch : no de l'etape\n",
        "\n",
        "    Returns\n",
        "    -------\n",
        "    total_r : recompense totale\n",
        "    r : recompense du dernier etat rencontre\n",
        "    states_list : liste des etats traverses\n",
        "    actions_list : liste des actions effectuees\n",
        "\n",
        "    \"\"\"\n",
        "    s = env.reset()\n",
        "    s = s[0]\n",
        "    total_r = 0\n",
        "    done = False\n",
        "    step = 0\n",
        "    states_list = []\n",
        "    actions_list = []\n",
        "    # The Q-Table learning algorithm\n",
        "    while not done and step < nb_actions:\n",
        "        step += 1\n",
        "        # Choose an action by greedily (with noise) picking from Q table\n",
        "        actions = Q[s, :]\n",
        "        if rnd.random()<epsilon or np.max(actions)==0:\n",
        "            a = rnd.randint(0, env.action_space.n-1)\n",
        "        else:\n",
        "            a = np.argmax(actions)\n",
        "\n",
        "        # Get new state and reward from environment\n",
        "        new_state, r, done,_, _ = env.step(a)\n",
        "\n",
        "        # to privilegiate the shortest path, get negative reward every step\n",
        "        # if r == 0: r = -0.001\n",
        "\n",
        "        # Q-Learning\n",
        "        Q[s, a] = (1-lambda_learn)*Q[s, a] + lambda_learn*(r + gamma * np.max(Q[new_state, :]) - Q[s, a])\n",
        "        s = new_state\n",
        "        total_r = total_r + r\n",
        "        states_list.append(s)\n",
        "        actions_list.append(a)\n",
        "    return total_r, r, states_list, actions_list"
      ]
    },
    {
      "cell_type": "code",
      "execution_count": null,
      "metadata": {
        "id": "TSWnnjvIku_C"
      },
      "outputs": [],
      "source": [
        "def try_qlearn(nb_episodes = 4000, nb_actions = 64):\n",
        "    \"\"\"\n",
        "    lance nb_episodes fois un cycle de Q-Learning et memorise chaque solution trouvee\n",
        "\n",
        "    Returns\n",
        "    -------\n",
        "    solutions_list : liste des solutions (no, recompense totale, liste des etats, liste des actions)\n",
        "    \"\"\"\n",
        "    global epsilon\n",
        "    states_list = []\n",
        "    actions_list = []\n",
        "    solutions_list = []\n",
        "    epsilon = 1\n",
        "    for i in tqdm(range(nb_episodes)):\n",
        "        # Reset environment and get first new observation\n",
        "        total_r, r, states_list, actions_list = q_learn()\n",
        "        epsilon = epsilon * 0.999\n",
        "        # memorize if a solution has been found\n",
        "        if r == 1: solutions_list.append((i, total_r, states_list, actions_list))\n",
        "\n",
        "    if(len(solutions_list) == 0): print(\"aucune solution trouvee !!\")\n",
        "    return solutions_list"
      ]
    },
    {
      "cell_type": "markdown",
      "metadata": {
        "id": "XjsvvKRFku_D"
      },
      "source": [
        "## Affichage de du résultat\n",
        "Affichons maintenant la liste des actions via l'environnement Gym"
      ]
    },
    {
      "cell_type": "code",
      "execution_count": 3,
      "metadata": {
        "id": "yqfGMrp5ku_D"
      },
      "outputs": [],
      "source": [
        "def rendu(solutions_list):\n",
        "    \"\"\" affiche la plus courte sequence d'actions permettant d'atteindre l'objectif q partir des solutions fournies\n",
        "    Parameters\n",
        "    ----------\n",
        "    solutions_list : liste des solutions trouvees\n",
        "\n",
        "    Returns\n",
        "    -------\n",
        "    None.\n",
        "    \"\"\"\n",
        "    mini_sol = solutions_list[0]\n",
        "    mini_actions = mini_sol[2]\n",
        "    for s in  solutions_list:\n",
        "        if len(s[2]) < len(mini_sol[2]):\n",
        "            mini_sol = s\n",
        "            mini_actions = s[3]\n",
        "    print(\"une solution en \", len(mini_sol[2]), \" etapes : \")\n",
        "    env.reset()\n",
        "    print(env.render())\n",
        "    for a in mini_actions:\n",
        "        env.step(a)\n",
        "        print(env.render())\n"
      ]
    },
    {
      "cell_type": "code",
      "execution_count": null,
      "metadata": {
        "id": "X4METu2Aku_D",
        "outputId": "25603b6e-57cf-4ecf-a1a9-69fc24a78ff0",
        "colab": {
          "base_uri": "https://localhost:8080/",
          "height": 193
        }
      },
      "outputs": [
        {
          "output_type": "error",
          "ename": "NameError",
          "evalue": "name 'try_qlearn' is not defined",
          "traceback": [
            "\u001b[0;31m---------------------------------------------------------------------------\u001b[0m",
            "\u001b[0;31mNameError\u001b[0m                                 Traceback (most recent call last)",
            "\u001b[0;32m<ipython-input-5-4bb4614a9eec>\u001b[0m in \u001b[0;36m<cell line: 0>\u001b[0;34m()\u001b[0m\n\u001b[1;32m      1\u001b[0m \u001b[0;31m##ON LANCE LA RESOLUTION :\u001b[0m\u001b[0;34m\u001b[0m\u001b[0;34m\u001b[0m\u001b[0m\n\u001b[0;32m----> 2\u001b[0;31m \u001b[0msolutions\u001b[0m \u001b[0;34m=\u001b[0m \u001b[0mtry_qlearn\u001b[0m\u001b[0;34m(\u001b[0m\u001b[0;36m3000\u001b[0m\u001b[0;34m,\u001b[0m \u001b[0;36m50\u001b[0m\u001b[0;34m)\u001b[0m\u001b[0;34m\u001b[0m\u001b[0;34m\u001b[0m\u001b[0m\n\u001b[0m\u001b[1;32m      3\u001b[0m \u001b[0;32mif\u001b[0m\u001b[0;34m(\u001b[0m\u001b[0mlen\u001b[0m\u001b[0;34m(\u001b[0m\u001b[0msolutions\u001b[0m\u001b[0;34m)\u001b[0m\u001b[0;34m>\u001b[0m\u001b[0;36m0\u001b[0m\u001b[0;34m)\u001b[0m\u001b[0;34m:\u001b[0m\u001b[0mrendu\u001b[0m\u001b[0;34m(\u001b[0m\u001b[0msolutions\u001b[0m\u001b[0;34m)\u001b[0m\u001b[0;34m\u001b[0m\u001b[0;34m\u001b[0m\u001b[0m\n\u001b[1;32m      4\u001b[0m \u001b[0;31m#relancer le bloc si pas de solution trouvee\u001b[0m\u001b[0;34m\u001b[0m\u001b[0;34m\u001b[0m\u001b[0m\n",
            "\u001b[0;31mNameError\u001b[0m: name 'try_qlearn' is not defined"
          ]
        }
      ],
      "source": [
        "##ON LANCE LA RESOLUTION :\n",
        "solutions = try_qlearn(3000, 50)\n",
        "if(len(solutions)>0):rendu(solutions)\n",
        "#relancer le bloc si pas de solution trouvee"
      ]
    },
    {
      "cell_type": "code",
      "execution_count": 4,
      "metadata": {
        "id": "J25iLoQ1ku_E"
      },
      "outputs": [],
      "source": [
        "import matplotlib.pyplot as plt\n",
        "def plot_frequence_sol(solutions_list):\n",
        "    \"\"\"\n",
        "    dessine la frequence de solution trouvees\n",
        "    Parameters\n",
        "    ----------\n",
        "    solutions : liste des solutions\n",
        "\n",
        "    Returns\n",
        "    -------\n",
        "    None.\n",
        "\n",
        "    \"\"\"\n",
        "    xs = [x[0] for x in solutions_list]\n",
        "    ys = [y[1] for y in solutions_list]\n",
        "    plt.figure(figsize=(10, 4))\n",
        "    plt.plot(xs, ys, '.')\n",
        "    plt.xlabel(\"no du test\")\n",
        "    plt.ylabel(\"gain\")\n",
        "    plt.title(\"Fréquence d'apparition de solution\")\n",
        "    plt.show()\n",
        "\n"
      ]
    },
    {
      "cell_type": "code",
      "execution_count": null,
      "metadata": {
        "id": "b9AEPvXgku_E",
        "outputId": "b0a483e0-c462-4bee-db88-42713761dd54",
        "colab": {
          "base_uri": "https://localhost:8080/",
          "height": 411
        }
      },
      "outputs": [
        {
          "output_type": "display_data",
          "data": {
            "text/plain": [
              "<Figure size 1000x400 with 1 Axes>"
            ],
            "image/png": "[encoded data removed]"
          },
          "metadata": {}
        }
      ],
      "source": [
        "plot_frequence_sol(solutions)"
      ]
    },
    {
      "cell_type": "code",
      "execution_count": 5,
      "metadata": {
        "id": "evwk0tQMku_F"
      },
      "outputs": [],
      "source": [
        "def showBestValues(Q):\n",
        "    #bestQValues contient les meilleures valeurs des actions possibles pour chaque état\n",
        "    #et on \"ecrase\" les valeurs pour réduire leurs différences (utile pour le choix des couleurs)\n",
        "    bestQValues = [max(ligne)**(1/10) for ligne in Q]\n",
        "    dim = int(Q.shape[0]**(1/2))\n",
        "    #on transforme bestQValues en matrice dim x dim\n",
        "    bestQValues = np.reshape(bestQValues, (dim,dim))\n",
        "    #on demande à python de générer une \"heatmap\"\n",
        "    fig, ax = plt.subplots(figsize=(5,5))\n",
        "    ax.imshow(bestQValues,cmap='Blues')\n",
        "    plt.title(\"Meilleur score d'une action selon l'état\")\n",
        "    plt.show()\n"
      ]
    },
    {
      "cell_type": "code",
      "execution_count": null,
      "metadata": {
        "id": "_OcuZiwAku_F",
        "outputId": "27e0899f-6807-4431-f050-5f4cf3579724",
        "colab": {
          "base_uri": "https://localhost:8080/",
          "height": 141
        }
      },
      "outputs": [
        {
          "output_type": "error",
          "ename": "NameError",
          "evalue": "name 'Q' is not defined",
          "traceback": [
            "\u001b[0;31m---------------------------------------------------------------------------\u001b[0m",
            "\u001b[0;31mNameError\u001b[0m                                 Traceback (most recent call last)",
            "\u001b[0;32m<ipython-input-8-9388952fda32>\u001b[0m in \u001b[0;36m<cell line: 0>\u001b[0;34m()\u001b[0m\n\u001b[0;32m----> 1\u001b[0;31m \u001b[0mshowBestValues\u001b[0m\u001b[0;34m(\u001b[0m\u001b[0mQ\u001b[0m\u001b[0;34m)\u001b[0m\u001b[0;34m\u001b[0m\u001b[0;34m\u001b[0m\u001b[0m\n\u001b[0m",
            "\u001b[0;31mNameError\u001b[0m: name 'Q' is not defined"
          ]
        }
      ],
      "source": [
        "showBestValues(Q)"
      ]
    },
    {
      "cell_type": "code",
      "execution_count": 6,
      "metadata": {
        "id": "8uVDGhaMku_F"
      },
      "outputs": [],
      "source": [
        "import seaborn as sns"
      ]
    },
    {
      "cell_type": "code",
      "execution_count": 7,
      "metadata": {
        "id": "_lQrciRIku_G"
      },
      "outputs": [],
      "source": [
        "# Author: Andrea Pierré\n",
        "# License: MIT License\n",
        "def qtable_directions_map(qtable, dim):\n",
        "    \"\"\"Get the best learned action & map it to arrows.\"\"\"\n",
        "    qtable_val_max = qtable.max(axis=1).reshape(dim, dim)\n",
        "    qtable_best_action = np.argmax(qtable, axis=1).reshape(dim, dim)\n",
        "    qtable_directions = np.empty(qtable_best_action.flatten().shape, dtype=str)\n",
        "    eps = 0#np.finfo(float).min #np.finfo(float).eps  # Minimum float number on the machine\n",
        "    for idx, val in enumerate(qtable_best_action.flatten()):\n",
        "        if qtable_val_max.flatten()[idx] > eps:\n",
        "            # Assign an arrow only if a Q-value has been learned as best action\n",
        "            # otherwise since 0 is a direction, it also gets mapped on the tiles where\n",
        "            # it didn't actually learn anything\n",
        "            qtable_directions[idx] = directions[val]\n",
        "    qtable_directions = qtable_directions.reshape(dim, dim)\n",
        "    return qtable_val_max, qtable_directions"
      ]
    },
    {
      "cell_type": "code",
      "execution_count": 10,
      "metadata": {
        "id": "5gCE-yBwku_H"
      },
      "outputs": [],
      "source": [
        "# from Author: Andrea Pierré\n",
        "# License: MIT License\n",
        "from math import sqrt\n",
        "sqrt_vect = np.vectorize(sqrt)\n",
        "\n",
        "def plot_q_values_map(qtable, dim):\n",
        "    \"\"\"Plot the last frame of the simulation and the policy learned.\"\"\"\n",
        "    qtable_val_max, qtable_directions = qtable_directions_map(qtable, dim)\n",
        "    # Plot the last frame\n",
        "    fig, ax = plt.subplots(nrows=1, ncols=1, figsize=(5, 5))\n",
        "    # Plot the policy\n",
        "    sns.heatmap(\n",
        "        sqrt_vect(sqrt_vect(sqrt_vect(qtable_val_max))),\n",
        "        annot=qtable_directions,\n",
        "        fmt=\"\",\n",
        "        cmap=sns.color_palette(\"Blues\", as_cmap=True),\n",
        "        linewidths=0.7,\n",
        "        linecolor=\"black\",\n",
        "        xticklabels=[],\n",
        "        yticklabels=[],\n",
        "        annot_kws={\"fontsize\": \"xx-large\"},\n",
        "        ).set(title=\"Learned Q-values\\nArrows represent best action\")\n",
        "    for _, spine in ax.spines.items():\n",
        "        spine.set_visible(True)\n",
        "        spine.set_linewidth(0.7)\n",
        "        spine.set_color(\"black\")\n",
        "    plt.show()"
      ]
    },
    {
      "cell_type": "code",
      "execution_count": null,
      "metadata": {
        "id": "FH9JD-9vku_H",
        "outputId": "9622811b-f255-4b61-b573-1e54f4cecaed",
        "colab": {
          "base_uri": "https://localhost:8080/",
          "height": 473
        }
      },
      "outputs": [
        {
          "output_type": "display_data",
          "data": {
            "text/plain": [
              "<Figure size 500x500 with 2 Axes>"
            ],
            "image/png": "[encoded data removed]"
          },
          "metadata": {}
        }
      ],
      "source": [
        "plot_q_values_map(Q,8)"
      ]
    },
    {
      "cell_type": "markdown",
      "metadata": {
        "id": "RdRu_tqhku_I"
      },
      "source": [
        "---\n",
        "### <font color=\"red\">Test de résolution en mode non déterministe</font>\n",
        "Rechargeons l'environnement en mode \"glissant\".\n",
        "\n",
        "Il suffit de réinitialiser la table Q et de lancer l'algorithme...\n"
      ]
    },
    {
      "cell_type": "code",
      "execution_count": null,
      "metadata": {
        "id": "-fIuO1IIku_I",
        "outputId": "32ada796-7722-4c1f-ec92-a6244d944d55",
        "colab": {
          "base_uri": "https://localhost:8080/",
          "height": 428
        }
      },
      "outputs": [
        {
          "output_type": "stream",
          "name": "stderr",
          "text": [
            "100%|██████████| 10000/10000 [00:13<00:00, 749.34it/s]\n"
          ]
        },
        {
          "output_type": "display_data",
          "data": {
            "text/plain": [
              "<Figure size 1000x400 with 1 Axes>"
            ],
            "image/png": "[encoded data removed]"
          },
          "metadata": {}
        }
      ],
      "source": [
        "env = gym.make('FrozenLake-v1', map_name=\"8x8\", is_slippery=True, render_mode='ansi')\n",
        "\n",
        "env.reset()\n",
        "Q = np.zeros([env.observation_space.n,env.action_space.n])\n",
        "lambda_learn = .3\n",
        "gamma = 0.99\n",
        "epsilon = 1.\n",
        "##ON LANCE LA RESOLUTION :\n",
        "solutions = try_qlearn(nb_episodes = 10000)\n",
        "plot_frequence_sol(solutions)"
      ]
    },
    {
      "cell_type": "code",
      "execution_count": null,
      "metadata": {
        "id": "hBoXSclaku_I",
        "outputId": "afd60812-a78f-41cf-9565-f87f90e47fb1",
        "colab": {
          "base_uri": "https://localhost:8080/"
        }
      },
      "outputs": [
        {
          "output_type": "stream",
          "name": "stdout",
          "text": [
            "une solution en  18  etapes : \n",
            "\n",
            "\u001b[41mS\u001b[0mFFFFFFF\n",
            "FFFFFFFF\n",
            "FFFHFFFF\n",
            "FFFFFHFF\n",
            "FFFHFFFF\n",
            "FHHFFFHF\n",
            "FHFFHFHF\n",
            "FFFHFFFG\n",
            "\n",
            "  (Down)\n",
            "\u001b[41mS\u001b[0mFFFFFFF\n",
            "FFFFFFFF\n",
            "FFFHFFFF\n",
            "FFFFFHFF\n",
            "FFFHFFFF\n",
            "FHHFFFHF\n",
            "FHFFHFHF\n",
            "FFFHFFFG\n",
            "\n",
            "  (Right)\n",
            "S\u001b[41mF\u001b[0mFFFFFF\n",
            "FFFFFFFF\n",
            "FFFHFFFF\n",
            "FFFFFHFF\n",
            "FFFHFFFF\n",
            "FHHFFFHF\n",
            "FHFFHFHF\n",
            "FFFHFFFG\n",
            "\n",
            "  (Up)\n",
            "\u001b[41mS\u001b[0mFFFFFFF\n",
            "FFFFFFFF\n",
            "FFFHFFFF\n",
            "FFFFFHFF\n",
            "FFFHFFFF\n",
            "FHHFFFHF\n",
            "FHFFHFHF\n",
            "FFFHFFFG\n",
            "\n",
            "  (Down)\n",
            "S\u001b[41mF\u001b[0mFFFFFF\n",
            "FFFFFFFF\n",
            "FFFHFFFF\n",
            "FFFFFHFF\n",
            "FFFHFFFF\n",
            "FHHFFFHF\n",
            "FHFFHFHF\n",
            "FFFHFFFG\n",
            "\n",
            "  (Down)\n",
            "SFFFFFFF\n",
            "F\u001b[41mF\u001b[0mFFFFFF\n",
            "FFFHFFFF\n",
            "FFFFFHFF\n",
            "FFFHFFFF\n",
            "FHHFFFHF\n",
            "FHFFHFHF\n",
            "FFFHFFFG\n",
            "\n",
            "  (Right)\n",
            "SFFFFFFF\n",
            "FF\u001b[41mF\u001b[0mFFFFF\n",
            "FFFHFFFF\n",
            "FFFFFHFF\n",
            "FFFHFFFF\n",
            "FHHFFFHF\n",
            "FHFFHFHF\n",
            "FFFHFFFG\n",
            "\n",
            "  (Up)\n",
            "SFFFFFFF\n",
            "FFF\u001b[41mF\u001b[0mFFFF\n",
            "FFFHFFFF\n",
            "FFFFFHFF\n",
            "FFFHFFFF\n",
            "FHHFFFHF\n",
            "FHFFHFHF\n",
            "FFFHFFFG\n",
            "\n",
            "  (Down)\n",
            "SFFFFFFF\n",
            "FFFFFFFF\n",
            "FFF\u001b[41mH\u001b[0mFFFF\n",
            "FFFFFHFF\n",
            "FFFHFFFF\n",
            "FHHFFFHF\n",
            "FHFFHFHF\n",
            "FFFHFFFG\n",
            "\n",
            "  (Down)\n",
            "SFFFFFFF\n",
            "FFFFFFFF\n",
            "FFF\u001b[41mH\u001b[0mFFFF\n",
            "FFFFFHFF\n",
            "FFFHFFFF\n",
            "FHHFFFHF\n",
            "FHFFHFHF\n",
            "FFFHFFFG\n",
            "\n",
            "  (Right)\n",
            "SFFFFFFF\n",
            "FFFFFFFF\n",
            "FFF\u001b[41mH\u001b[0mFFFF\n",
            "FFFFFHFF\n",
            "FFFHFFFF\n",
            "FHHFFFHF\n",
            "FHFFHFHF\n",
            "FFFHFFFG\n",
            "\n",
            "  (Up)\n",
            "SFFFFFFF\n",
            "FFFFFFFF\n",
            "FFF\u001b[41mH\u001b[0mFFFF\n",
            "FFFFFHFF\n",
            "FFFHFFFF\n",
            "FHHFFFHF\n",
            "FHFFHFHF\n",
            "FFFHFFFG\n",
            "\n",
            "  (Up)\n",
            "SFFFFFFF\n",
            "FFFFFFFF\n",
            "FFF\u001b[41mH\u001b[0mFFFF\n",
            "FFFFFHFF\n",
            "FFFHFFFF\n",
            "FHHFFFHF\n",
            "FHFFHFHF\n",
            "FFFHFFFG\n",
            "\n",
            "  (Up)\n",
            "SFFFFFFF\n",
            "FFFFFFFF\n",
            "FFF\u001b[41mH\u001b[0mFFFF\n",
            "FFFFFHFF\n",
            "FFFHFFFF\n",
            "FHHFFFHF\n",
            "FHFFHFHF\n",
            "FFFHFFFG\n",
            "\n",
            "  (Right)\n",
            "SFFFFFFF\n",
            "FFFFFFFF\n",
            "FFF\u001b[41mH\u001b[0mFFFF\n",
            "FFFFFHFF\n",
            "FFFHFFFF\n",
            "FHHFFFHF\n",
            "FHFFHFHF\n",
            "FFFHFFFG\n",
            "\n",
            "  (Down)\n",
            "SFFFFFFF\n",
            "FFFFFFFF\n",
            "FFF\u001b[41mH\u001b[0mFFFF\n",
            "FFFFFHFF\n",
            "FFFHFFFF\n",
            "FHHFFFHF\n",
            "FHFFHFHF\n",
            "FFFHFFFG\n",
            "\n",
            "  (Right)\n",
            "SFFFFFFF\n",
            "FFFFFFFF\n",
            "FFF\u001b[41mH\u001b[0mFFFF\n",
            "FFFFFHFF\n",
            "FFFHFFFF\n",
            "FHHFFFHF\n",
            "FHFFHFHF\n",
            "FFFHFFFG\n",
            "\n",
            "  (Down)\n",
            "SFFFFFFF\n",
            "FFFFFFFF\n",
            "FFF\u001b[41mH\u001b[0mFFFF\n",
            "FFFFFHFF\n",
            "FFFHFFFF\n",
            "FHHFFFHF\n",
            "FHFFHFHF\n",
            "FFFHFFFG\n",
            "\n",
            "  (Right)\n",
            "SFFFFFFF\n",
            "FFFFFFFF\n",
            "FFF\u001b[41mH\u001b[0mFFFF\n",
            "FFFFFHFF\n",
            "FFFHFFFF\n",
            "FHHFFFHF\n",
            "FHFFHFHF\n",
            "FFFHFFFG\n",
            "\n",
            "SOLUTION NON ATTEINTE alors que l'on a suivi une séquence gagnante ? -> c'est normal, l'environnement est trop instable.\n",
            "On n'apprend seulement les actions permettant *le plus probablement* de mener à une solution\n",
            "mais elle n'est pas toujours garantie....\n",
            "relancez ce bloc plusieurs fois, au bout d'un (long) moment la séquence d'actions mènera au succès....\n"
          ]
        }
      ],
      "source": [
        "if(len(solutions)>0):rendu(solutions)\n",
        "print(\"SOLUTION NON ATTEINTE alors que l'on a suivi une séquence gagnante ? -> c'est normal, l'environnement est trop instable.\")\n",
        "print(\"On n'apprend seulement les actions permettant *le plus probablement* de mener à une solution\")\n",
        "print(\"mais elle n'est pas toujours garantie....\")\n",
        "print(\"relancez ce bloc plusieurs fois, au bout d'un (long) moment la séquence d'actions mènera au succès....\")\n"
      ]
    },
    {
      "cell_type": "code",
      "execution_count": null,
      "metadata": {
        "id": "GVBoh6Psku_J",
        "outputId": "76ca59e2-abfe-49c4-9239-1c1ea0d8548d",
        "colab": {
          "base_uri": "https://localhost:8080/",
          "height": 468
        }
      },
      "outputs": [
        {
          "output_type": "display_data",
          "data": {
            "text/plain": [
              "<Figure size 500x500 with 1 Axes>"
            ],
            "image/png": "[encoded data removed]"
          },
          "metadata": {}
        }
      ],
      "source": [
        "showBestValues(Q)"
      ]
    },
    {
      "cell_type": "markdown",
      "metadata": {
        "id": "-mEA-jaPku_J"
      },
      "source": [
        "---\n",
        "### Double Q Learning"
      ]
    },
    {
      "cell_type": "markdown",
      "metadata": {
        "id": "SIpdwoq0ku_J"
      },
      "source": [
        "Avec l'algo de Double Q Learning, on réalise, plus ou moins alternativement :\n",
        "  - $a^* \\gets  argmax_{a} QA(s', a)$,\n",
        "  - $Q_A(s,a) \\gets Q_A(s,a) + \\lambda \\times (r + \\gamma \\times Q_B(s', a^*))-  Q_A(s,a))$ <br>\n",
        "ou<br>\n",
        "  - $b^* \\gets  argmax_{a} Q_B(s', a)$\n",
        "  - $Q_B(s,a) \\gets Q_B(s,a) + \\lambda \\times (r + \\gamma \\times QA(s', b^*))-  Q_B(s,a))$<br>\n",
        "avec\n",
        "    - $\\lambda$ : coef d'apprentissage\n",
        "    - $\\gamma$ : coef de réduction\n",
        "    - $r$ : récompense\n",
        "\n",
        "Cette équation note la qualité de l'action *a* à partir de l'état *s* alternativement dans les tables $Q_A$ et $Q_B$.\n",
        "\n",
        "**Codez maintenant l'algorithme de double Q-Learning et comparez les résultats** (cf. [CLIFFDoubleQLearning](https://github.com/EmmanuelADAM/IntelligenceArtificiellePython/blob/master/GymCLIFFDoubleQLearningTODO.ipynb)).\n",
        "\n",
        "N.B. Les paramètres permettant un bon apprentissage par doube QLearning sont :\n",
        "- lambda_learn = .2\n",
        "- gamma = 0.99\n",
        "- epsilon = 1.\n",
        "- nb_episodes = 3000\n",
        "- nb_actions = 100\n"
      ]
    },
    {
      "cell_type": "markdown",
      "source": [
        "# L'algorithme double QLearning"
      ],
      "metadata": {
        "id": "IgEDal86uHwN"
      }
    },
    {
      "cell_type": "code",
      "source": [
        "#algorithme de double Q-learning\n",
        "def double_q_learn(nb_actions=100):\n",
        "  s = env.reset()\n",
        "  s = s[0]\n",
        "  total_r = 0\n",
        "  done = False\n",
        "  step = 0\n",
        "  states_list = []\n",
        "  actions_list = []\n",
        "\n",
        "  QA = np.zeros([env.observation_space.n, env.action_space.n])\n",
        "  QB = np.zeros([env.observation_space.n, env.action_space.n])\n",
        "\n",
        "  while not done and step < nb_actions:\n",
        "    step += 1\n",
        "    if rnd.random() < epsilon or np.max(QA[s, :]) == 0 or np.max(QB[s,:]) == 0:\n",
        "      a = rnd.randint(0, env.action_space.n - 1)\n",
        "    else:\n",
        "      a = np.argmax(QA[s, :] + QB[s, :])\n",
        "\n",
        "    new_state, r, done, _, _ = env.step(a)\n",
        "    if rnd.random() < 0.5:\n",
        "        a_star = np.argmax(QA[new_state, :])\n",
        "        QA[s, a] = QA[s, a] + lambda_learn * (r + gamma * QB[new_state, a_star]) - QA[s, a]\n",
        "    else:\n",
        "        b_star = np.argmax(QB[new_state, :])\n",
        "        QB[s, a] = QB[s, a] + lambda_learn * (r + gamma * QA[new_state, b_star]) - QB[s, a]\n",
        "\n",
        "    s = new_state\n",
        "    total_r = total_r + r\n",
        "    states_list.append(s)\n",
        "    actions_list.append(a)\n",
        "  return total_r, r, states_list, actions_list, QA, QB\n",
        "\n",
        "def try_double_qlearn(nb_episodes = 20000, nb_actions = 100):\n",
        "  global epsilon\n",
        "  states_list = []\n",
        "  actions_list = []\n",
        "  solutions_list = []\n",
        "  for i in tqdm(range(nb_episodes)):\n",
        "    total_r, r, states_list, actions_list, QA, QB = double_q_learn()\n",
        "    epsilon = epsilon * 0.999\n",
        "    if r == 1: solutions_list.append((i, total_r, states_list, actions_list))\n",
        "  if(len(solutions_list) == 0): print(\"aucune solution trouvee !!\")\n",
        "  return solutions_list, QA, QB\n",
        "\n",
        "##ON LANCE L'APPRENTISSAGE :\n",
        "\n",
        "env = gym.make('FrozenLake-v1', map_name=\"8x8\", is_slippery=False, render_mode='ansi')\n",
        "lambda_learn = .2\n",
        "gamma = 0.99\n",
        "epsilon = 1.\n",
        "\n",
        "solutions, QA, QB = try_double_qlearn()\n",
        "\n",
        "if len(solutions) > 0:\n",
        "  rendu(solutions)\n",
        "\n",
        "plot_frequence_sol(solutions)\n",
        "showBestValues(QA)\n",
        "plot_q_values_map(QA, 8)"
      ],
      "metadata": {
        "id": "D_40bbA5ucSn",
        "outputId": "682adb75-312e-4ff0-e096-c8ca2cfc8430",
        "colab": {
          "base_uri": "https://localhost:8080/",
          "height": 1000
        }
      },
      "execution_count": 14,
      "outputs": [
        {
          "output_type": "stream",
          "name": "stderr",
          "text": [
            "100%|██████████| 50000/50000 [00:40<00:00, 1240.84it/s]\n"
          ]
        },
        {
          "output_type": "stream",
          "name": "stdout",
          "text": [
            "une solution en  22  etapes : \n",
            "\n",
            "\u001b[41mS\u001b[0mFFFFFFF\n",
            "FFFFFFFF\n",
            "FFFHFFFF\n",
            "FFFFFHFF\n",
            "FFFHFFFF\n",
            "FHHFFFHF\n",
            "FHFFHFHF\n",
            "FFFHFFFG\n",
            "\n",
            "  (Down)\n",
            "SFFFFFFF\n",
            "\u001b[41mF\u001b[0mFFFFFFF\n",
            "FFFHFFFF\n",
            "FFFFFHFF\n",
            "FFFHFFFF\n",
            "FHHFFFHF\n",
            "FHFFHFHF\n",
            "FFFHFFFG\n",
            "\n",
            "  (Right)\n",
            "SFFFFFFF\n",
            "F\u001b[41mF\u001b[0mFFFFFF\n",
            "FFFHFFFF\n",
            "FFFFFHFF\n",
            "FFFHFFFF\n",
            "FHHFFFHF\n",
            "FHFFHFHF\n",
            "FFFHFFFG\n",
            "\n",
            "  (Right)\n",
            "SFFFFFFF\n",
            "FF\u001b[41mF\u001b[0mFFFFF\n",
            "FFFHFFFF\n",
            "FFFFFHFF\n",
            "FFFHFFFF\n",
            "FHHFFFHF\n",
            "FHFFHFHF\n",
            "FFFHFFFG\n",
            "\n",
            "  (Right)\n",
            "SFFFFFFF\n",
            "FFF\u001b[41mF\u001b[0mFFFF\n",
            "FFFHFFFF\n",
            "FFFFFHFF\n",
            "FFFHFFFF\n",
            "FHHFFFHF\n",
            "FHFFHFHF\n",
            "FFFHFFFG\n",
            "\n",
            "  (Up)\n",
            "SFF\u001b[41mF\u001b[0mFFFF\n",
            "FFFFFFFF\n",
            "FFFHFFFF\n",
            "FFFFFHFF\n",
            "FFFHFFFF\n",
            "FHHFFFHF\n",
            "FHFFHFHF\n",
            "FFFHFFFG\n",
            "\n",
            "  (Left)\n",
            "SF\u001b[41mF\u001b[0mFFFFF\n",
            "FFFFFFFF\n",
            "FFFHFFFF\n",
            "FFFFFHFF\n",
            "FFFHFFFF\n",
            "FHHFFFHF\n",
            "FHFFHFHF\n",
            "FFFHFFFG\n",
            "\n",
            "  (Right)\n",
            "SFF\u001b[41mF\u001b[0mFFFF\n",
            "FFFFFFFF\n",
            "FFFHFFFF\n",
            "FFFFFHFF\n",
            "FFFHFFFF\n",
            "FHHFFFHF\n",
            "FHFFHFHF\n",
            "FFFHFFFG\n",
            "\n",
            "  (Up)\n",
            "SFF\u001b[41mF\u001b[0mFFFF\n",
            "FFFFFFFF\n",
            "FFFHFFFF\n",
            "FFFFFHFF\n",
            "FFFHFFFF\n",
            "FHHFFFHF\n",
            "FHFFHFHF\n",
            "FFFHFFFG\n",
            "\n",
            "  (Down)\n",
            "SFFFFFFF\n",
            "FFF\u001b[41mF\u001b[0mFFFF\n",
            "FFFHFFFF\n",
            "FFFFFHFF\n",
            "FFFHFFFF\n",
            "FHHFFFHF\n",
            "FHFFHFHF\n",
            "FFFHFFFG\n",
            "\n",
            "  (Right)\n",
            "SFFFFFFF\n",
            "FFFF\u001b[41mF\u001b[0mFFF\n",
            "FFFHFFFF\n",
            "FFFFFHFF\n",
            "FFFHFFFF\n",
            "FHHFFFHF\n",
            "FHFFHFHF\n",
            "FFFHFFFG\n",
            "\n",
            "  (Down)\n",
            "SFFFFFFF\n",
            "FFFFFFFF\n",
            "FFFH\u001b[41mF\u001b[0mFFF\n",
            "FFFFFHFF\n",
            "FFFHFFFF\n",
            "FHHFFFHF\n",
            "FHFFHFHF\n",
            "FFFHFFFG\n",
            "\n",
            "  (Right)\n",
            "SFFFFFFF\n",
            "FFFFFFFF\n",
            "FFFHF\u001b[41mF\u001b[0mFF\n",
            "FFFFFHFF\n",
            "FFFHFFFF\n",
            "FHHFFFHF\n",
            "FHFFHFHF\n",
            "FFFHFFFG\n",
            "\n",
            "  (Right)\n",
            "SFFFFFFF\n",
            "FFFFFFFF\n",
            "FFFHFF\u001b[41mF\u001b[0mF\n",
            "FFFFFHFF\n",
            "FFFHFFFF\n",
            "FHHFFFHF\n",
            "FHFFHFHF\n",
            "FFFHFFFG\n",
            "\n",
            "  (Right)\n",
            "SFFFFFFF\n",
            "FFFFFFFF\n",
            "FFFHFFF\u001b[41mF\u001b[0m\n",
            "FFFFFHFF\n",
            "FFFHFFFF\n",
            "FHHFFFHF\n",
            "FHFFHFHF\n",
            "FFFHFFFG\n",
            "\n",
            "  (Right)\n",
            "SFFFFFFF\n",
            "FFFFFFFF\n",
            "FFFHFFF\u001b[41mF\u001b[0m\n",
            "FFFFFHFF\n",
            "FFFHFFFF\n",
            "FHHFFFHF\n",
            "FHFFHFHF\n",
            "FFFHFFFG\n",
            "\n",
            "  (Down)\n",
            "SFFFFFFF\n",
            "FFFFFFFF\n",
            "FFFHFFFF\n",
            "FFFFFHF\u001b[41mF\u001b[0m\n",
            "FFFHFFFF\n",
            "FHHFFFHF\n",
            "FHFFHFHF\n",
            "FFFHFFFG\n",
            "\n",
            "  (Down)\n",
            "SFFFFFFF\n",
            "FFFFFFFF\n",
            "FFFHFFFF\n",
            "FFFFFHFF\n",
            "FFFHFFF\u001b[41mF\u001b[0m\n",
            "FHHFFFHF\n",
            "FHFFHFHF\n",
            "FFFHFFFG\n",
            "\n",
            "  (Right)\n",
            "SFFFFFFF\n",
            "FFFFFFFF\n",
            "FFFHFFFF\n",
            "FFFFFHFF\n",
            "FFFHFFF\u001b[41mF\u001b[0m\n",
            "FHHFFFHF\n",
            "FHFFHFHF\n",
            "FFFHFFFG\n",
            "\n",
            "  (Right)\n",
            "SFFFFFFF\n",
            "FFFFFFFF\n",
            "FFFHFFFF\n",
            "FFFFFHFF\n",
            "FFFHFFF\u001b[41mF\u001b[0m\n",
            "FHHFFFHF\n",
            "FHFFHFHF\n",
            "FFFHFFFG\n",
            "\n",
            "  (Down)\n",
            "SFFFFFFF\n",
            "FFFFFFFF\n",
            "FFFHFFFF\n",
            "FFFFFHFF\n",
            "FFFHFFFF\n",
            "FHHFFFH\u001b[41mF\u001b[0m\n",
            "FHFFHFHF\n",
            "FFFHFFFG\n",
            "\n",
            "  (Down)\n",
            "SFFFFFFF\n",
            "FFFFFFFF\n",
            "FFFHFFFF\n",
            "FFFFFHFF\n",
            "FFFHFFFF\n",
            "FHHFFFHF\n",
            "FHFFHFH\u001b[41mF\u001b[0m\n",
            "FFFHFFFG\n",
            "\n",
            "  (Down)\n",
            "SFFFFFFF\n",
            "FFFFFFFF\n",
            "FFFHFFFF\n",
            "FFFFFHFF\n",
            "FFFHFFFF\n",
            "FHHFFFHF\n",
            "FHFFHFHF\n",
            "FFFHFFF\u001b[41mG\u001b[0m\n",
            "\n"
          ]
        },
        {
          "output_type": "display_data",
          "data": {
            "text/plain": [
              "<Figure size 1000x400 with 1 Axes>"
            ],
            "image/png": "[encoded data removed]"
          },
          "metadata": {}
        },
        {
          "output_type": "display_data",
          "data": {
            "text/plain": [
              "<Figure size 500x500 with 1 Axes>"
            ],
            "image/png": "[encoded data removed]"
          },
          "metadata": {}
        },
        {
          "output_type": "display_data",
          "data": {
            "text/plain": [
              "<Figure size 500x500 with 2 Axes>"
            ],
            "image/png": "[encoded data removed]"
          },
          "metadata": {}
        }
      ]
    },
    {
      "cell_type": "markdown",
      "metadata": {
        "id": "z3yLdqbQku_K"
      },
      "source": [
        "----\n",
        "### Delayed QLearning\n",
        "\n",
        "Pour le **Delayed QLearning**, le but est d'attendre avant de mettre à jour les valeurs de Qualité des actions.\n",
        "\n",
        "- On introduit alors une liste qui contiendra les valeurs rencontrées.\n",
        "- Cette liste $memory$ contient des tuples (etat, action, reward, nouvel_etat)\n",
        "- L'algo suit le fonctionnement classique, mais après l'exécution d'une action, l'état actuel, l'action, le reward et le nouvel etat obtenu sont stockés dans la liste $memory$\n",
        "- Périodiquement, au bout de $m$ itérations :  \n",
        "    - on balaie cette liste pour appliquer la classique formule de QLearning et mettre à jour la matrice Q pour chaque couple état, action rencontrés\n",
        "    - on efface le contenue de cette liste.\n",
        "- La performance du delayedQLearning dépend de la valeur m (par exemple pour m=16, ce n'est qu'après 16 actions (ou après avoir trouvé le but, ou au bout des actions demandées) que la matrice Q sera mise à jour avec l'ensemble des cas rencontrés\n",
        "\n",
        "Le delayed QLearning permet une plus grande exploration et diminue les cas de maxima locaux."
      ]
    },
    {
      "cell_type": "markdown",
      "metadata": {
        "id": "NLfEsXzXku_K"
      },
      "source": [
        "**Codez maintenant l'algorithme de delayed Q-Learning** et comparez les résultats."
      ]
    },
    {
      "cell_type": "markdown",
      "source": [
        "# L'algorithme Delayed Q-Learning"
      ],
      "metadata": {
        "id": "Np8RVG5o98eN"
      }
    },
    {
      "cell_type": "code",
      "source": [
        "def delayed_q_learning(nb_actions=100):\n",
        "    s = env.reset()\n",
        "    s = s[0]\n",
        "    total_r = 0\n",
        "    done = False\n",
        "    step = 0\n",
        "    states_list = []\n",
        "    actions_list = []\n",
        "\n",
        "    Q = np.zeros([env.observation_space.n, env.action_space.n])\n",
        "    tries = np.zeros([env.observation_space.n, env.action_space.n], dtype=int)\n",
        "\n",
        "    while not done and step < nb_actions:\n",
        "        step += 1\n",
        "\n",
        "        if rnd.random() < epsilon or np.max(Q[s, :]) == 0:\n",
        "            a = rnd.randint(0, env.action_space.n - 1)\n",
        "        else:\n",
        "            a = np.argmax(Q[s, :])\n",
        "\n",
        "        new_state, r, done, _, _ = env.step(a)\n",
        "\n",
        "        best_next = np.max(Q[new_state, :])\n",
        "        target = r + gamma * best_next\n",
        "\n",
        "        if target > Q[s, a] + delta:\n",
        "            tries[s, a] += 1\n",
        "\n",
        "            if tries[s, a] >= m:\n",
        "                Q[s, a] = Q[s, a] + lambda_learn * (target - Q[s, a])\n",
        "                tries[s, a] = 0\n",
        "        else:\n",
        "            tries[s, a] = 0\n",
        "\n",
        "        s = new_state\n",
        "        total_r += r\n",
        "        states_list.append(s)\n",
        "        actions_list.append(a)\n",
        "\n",
        "    return total_r, r, states_list, actions_list, Q\n",
        "\n",
        "\n",
        "def try_delayed_qlearn(nb_episodes=20000, nb_actions=100):\n",
        "    global epsilon\n",
        "    states_list = []\n",
        "    actions_list = []\n",
        "    solutions_list = []\n",
        "    Q_final = np.zeros([env.observation_space.n, env.action_space.n])\n",
        "\n",
        "    for i in tqdm(range(nb_episodes)):\n",
        "        total_r, r, states_list, actions_list, Q = delayed_q_learning(nb_actions)\n",
        "        epsilon = epsilon * 0.999\n",
        "        Q_final += Q\n",
        "\n",
        "        if r == 1:\n",
        "            solutions_list.append((i, total_r, states_list, actions_list))\n",
        "\n",
        "    if len(solutions_list) == 0:\n",
        "        print(\"Aucune solution trouvée !!\")\n",
        "\n",
        "    Q_final /= nb_episodes\n",
        "\n",
        "    return solutions_list, Q_final\n",
        "\n",
        "\n",
        "## LANCEMENT DE L'APPRENTISSAGE :\n",
        "\n",
        "lambda_learn = 0.2\n",
        "gamma = 0.99\n",
        "epsilon = 1.\n",
        "delta = 0.01\n",
        "m = 5\n",
        "\n",
        "env = gym.make('FrozenLake-v1', map_name=\"8x8\", is_slippery=False, render_mode='ansi')\n",
        "\n",
        "solutions, Q_final = try_delayed_qlearn()\n",
        "if len(solutions) > 0:\n",
        "    rendu(solutions)\n",
        "\n",
        "plot_frequence_sol(solutions)\n",
        "showBestValues(Q_final)\n",
        "plot_q_values_map(Q_final, 8)"
      ],
      "metadata": {
        "id": "5IaJkxan-EiX",
        "outputId": "091ea4ea-45ca-40ad-9b5a-9c996f72e36a",
        "colab": {
          "base_uri": "https://localhost:8080/",
          "height": 1000
        }
      },
      "execution_count": 15,
      "outputs": [
        {
          "output_type": "stream",
          "name": "stderr",
          "text": [
            "100%|██████████| 20000/20000 [00:18<00:00, 1067.15it/s]\n"
          ]
        },
        {
          "output_type": "stream",
          "name": "stdout",
          "text": [
            "une solution en  21  etapes : \n",
            "\n",
            "\u001b[41mS\u001b[0mFFFFFFF\n",
            "FFFFFFFF\n",
            "FFFHFFFF\n",
            "FFFFFHFF\n",
            "FFFHFFFF\n",
            "FHHFFFHF\n",
            "FHFFHFHF\n",
            "FFFHFFFG\n",
            "\n",
            "  (Right)\n",
            "S\u001b[41mF\u001b[0mFFFFFF\n",
            "FFFFFFFF\n",
            "FFFHFFFF\n",
            "FFFFFHFF\n",
            "FFFHFFFF\n",
            "FHHFFFHF\n",
            "FHFFHFHF\n",
            "FFFHFFFG\n",
            "\n",
            "  (Right)\n",
            "SF\u001b[41mF\u001b[0mFFFFF\n",
            "FFFFFFFF\n",
            "FFFHFFFF\n",
            "FFFFFHFF\n",
            "FFFHFFFF\n",
            "FHHFFFHF\n",
            "FHFFHFHF\n",
            "FFFHFFFG\n",
            "\n",
            "  (Up)\n",
            "SF\u001b[41mF\u001b[0mFFFFF\n",
            "FFFFFFFF\n",
            "FFFHFFFF\n",
            "FFFFFHFF\n",
            "FFFHFFFF\n",
            "FHHFFFHF\n",
            "FHFFHFHF\n",
            "FFFHFFFG\n",
            "\n",
            "  (Up)\n",
            "SF\u001b[41mF\u001b[0mFFFFF\n",
            "FFFFFFFF\n",
            "FFFHFFFF\n",
            "FFFFFHFF\n",
            "FFFHFFFF\n",
            "FHHFFFHF\n",
            "FHFFHFHF\n",
            "FFFHFFFG\n",
            "\n",
            "  (Right)\n",
            "SFF\u001b[41mF\u001b[0mFFFF\n",
            "FFFFFFFF\n",
            "FFFHFFFF\n",
            "FFFFFHFF\n",
            "FFFHFFFF\n",
            "FHHFFFHF\n",
            "FHFFHFHF\n",
            "FFFHFFFG\n",
            "\n",
            "  (Up)\n",
            "SFF\u001b[41mF\u001b[0mFFFF\n",
            "FFFFFFFF\n",
            "FFFHFFFF\n",
            "FFFFFHFF\n",
            "FFFHFFFF\n",
            "FHHFFFHF\n",
            "FHFFHFHF\n",
            "FFFHFFFG\n",
            "\n",
            "  (Right)\n",
            "SFFF\u001b[41mF\u001b[0mFFF\n",
            "FFFFFFFF\n",
            "FFFHFFFF\n",
            "FFFFFHFF\n",
            "FFFHFFFF\n",
            "FHHFFFHF\n",
            "FHFFHFHF\n",
            "FFFHFFFG\n",
            "\n",
            "  (Down)\n",
            "SFFFFFFF\n",
            "FFFF\u001b[41mF\u001b[0mFFF\n",
            "FFFHFFFF\n",
            "FFFFFHFF\n",
            "FFFHFFFF\n",
            "FHHFFFHF\n",
            "FHFFHFHF\n",
            "FFFHFFFG\n",
            "\n",
            "  (Down)\n",
            "SFFFFFFF\n",
            "FFFFFFFF\n",
            "FFFH\u001b[41mF\u001b[0mFFF\n",
            "FFFFFHFF\n",
            "FFFHFFFF\n",
            "FHHFFFHF\n",
            "FHFFHFHF\n",
            "FFFHFFFG\n",
            "\n",
            "  (Up)\n",
            "SFFFFFFF\n",
            "FFFF\u001b[41mF\u001b[0mFFF\n",
            "FFFHFFFF\n",
            "FFFFFHFF\n",
            "FFFHFFFF\n",
            "FHHFFFHF\n",
            "FHFFHFHF\n",
            "FFFHFFFG\n",
            "\n",
            "  (Right)\n",
            "SFFFFFFF\n",
            "FFFFF\u001b[41mF\u001b[0mFF\n",
            "FFFHFFFF\n",
            "FFFFFHFF\n",
            "FFFHFFFF\n",
            "FHHFFFHF\n",
            "FHFFHFHF\n",
            "FFFHFFFG\n",
            "\n",
            "  (Right)\n",
            "SFFFFFFF\n",
            "FFFFFF\u001b[41mF\u001b[0mF\n",
            "FFFHFFFF\n",
            "FFFFFHFF\n",
            "FFFHFFFF\n",
            "FHHFFFHF\n",
            "FHFFHFHF\n",
            "FFFHFFFG\n",
            "\n",
            "  (Down)\n",
            "SFFFFFFF\n",
            "FFFFFFFF\n",
            "FFFHFF\u001b[41mF\u001b[0mF\n",
            "FFFFFHFF\n",
            "FFFHFFFF\n",
            "FHHFFFHF\n",
            "FHFFHFHF\n",
            "FFFHFFFG\n",
            "\n",
            "  (Left)\n",
            "SFFFFFFF\n",
            "FFFFFFFF\n",
            "FFFHF\u001b[41mF\u001b[0mFF\n",
            "FFFFFHFF\n",
            "FFFHFFFF\n",
            "FHHFFFHF\n",
            "FHFFHFHF\n",
            "FFFHFFFG\n",
            "\n",
            "  (Right)\n",
            "SFFFFFFF\n",
            "FFFFFFFF\n",
            "FFFHFF\u001b[41mF\u001b[0mF\n",
            "FFFFFHFF\n",
            "FFFHFFFF\n",
            "FHHFFFHF\n",
            "FHFFHFHF\n",
            "FFFHFFFG\n",
            "\n",
            "  (Down)\n",
            "SFFFFFFF\n",
            "FFFFFFFF\n",
            "FFFHFFFF\n",
            "FFFFFH\u001b[41mF\u001b[0mF\n",
            "FFFHFFFF\n",
            "FHHFFFHF\n",
            "FHFFHFHF\n",
            "FFFHFFFG\n",
            "\n",
            "  (Right)\n",
            "SFFFFFFF\n",
            "FFFFFFFF\n",
            "FFFHFFFF\n",
            "FFFFFHF\u001b[41mF\u001b[0m\n",
            "FFFHFFFF\n",
            "FHHFFFHF\n",
            "FHFFHFHF\n",
            "FFFHFFFG\n",
            "\n",
            "  (Down)\n",
            "SFFFFFFF\n",
            "FFFFFFFF\n",
            "FFFHFFFF\n",
            "FFFFFHFF\n",
            "FFFHFFF\u001b[41mF\u001b[0m\n",
            "FHHFFFHF\n",
            "FHFFHFHF\n",
            "FFFHFFFG\n",
            "\n",
            "  (Down)\n",
            "SFFFFFFF\n",
            "FFFFFFFF\n",
            "FFFHFFFF\n",
            "FFFFFHFF\n",
            "FFFHFFFF\n",
            "FHHFFFH\u001b[41mF\u001b[0m\n",
            "FHFFHFHF\n",
            "FFFHFFFG\n",
            "\n",
            "  (Down)\n",
            "SFFFFFFF\n",
            "FFFFFFFF\n",
            "FFFHFFFF\n",
            "FFFFFHFF\n",
            "FFFHFFFF\n",
            "FHHFFFHF\n",
            "FHFFHFH\u001b[41mF\u001b[0m\n",
            "FFFHFFFG\n",
            "\n",
            "  (Down)\n",
            "SFFFFFFF\n",
            "FFFFFFFF\n",
            "FFFHFFFF\n",
            "FFFFFHFF\n",
            "FFFHFFFF\n",
            "FHHFFFHF\n",
            "FHFFHFHF\n",
            "FFFHFFF\u001b[41mG\u001b[0m\n",
            "\n"
          ]
        },
        {
          "output_type": "display_data",
          "data": {
            "text/plain": [
              "<Figure size 1000x400 with 1 Axes>"
            ],
            "image/png": "[encoded data removed]"
          },
          "metadata": {}
        },
        {
          "output_type": "display_data",
          "data": {
            "text/plain": [
              "<Figure size 500x500 with 1 Axes>"
            ],
            "image/png": "[encoded data removed]"
          },
          "metadata": {}
        },
        {
          "output_type": "display_data",
          "data": {
            "text/plain": [
              "<Figure size 500x500 with 2 Axes>"
            ],
            "image/png": "[encoded data removed]"
          },
          "metadata": {}
        }
      ]
    }
  ],
  "metadata": {
    "kernelspec": {
      "display_name": "Python 3 (ipykernel)",
      "language": "python",
      "name": "python3"
    },
    "language_info": {
      "codemirror_mode": {
        "name": "ipython",
        "version": 3
      },
      "file_extension": ".py",
      "mimetype": "text/x-python",
      "name": "python",
      "nbconvert_exporter": "python",
      "pygments_lexer": "ipython3",
      "version": "3.12.2"
    },
    "colab": {
      "provenance": []
    }
  },
  "nbformat": 4,
  "nbformat_minor": 0
}