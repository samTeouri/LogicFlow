{
  "cells": [
    {
      "cell_type": "markdown",
      "metadata": {
        "id": "tMvbaBvQFPU6"
      },
      "source": [
        "<a href=\"https://colab.research.google.com/github/EmmanuelADAM/IntelligenceArtificiellePython/blob/master/GymTaxiDoubleQLearningTODO.ipynb\" target=\"_parent\">Ouvrir sous colab</a>"
      ]
    },
    {
      "cell_type": "markdown",
      "metadata": {
        "id": "Hkw1JC9DFPU8"
      },
      "source": [
        "# Machine Learning\n",
        "## Appliqué à [Gym.OpenAI](https://gym.openai.com)"
      ]
    },
    {
      "cell_type": "markdown",
      "metadata": {
        "id": "4SmHp6NNFPU8"
      },
      "source": [
        "---\n",
        "## Test de ML par Q-Learning pour atteindre des objectifs\n",
        "\n",
        "**Utilisation de l'environnement gymnasium**\n",
        " (voir la page d'introduction à [gymnasium](https://www.gymlibrary.dev/))."
      ]
    },
    {
      "cell_type": "markdown",
      "metadata": {
        "id": "-RZcOGAGFPU9"
      },
      "source": [
        "#### Si besoin, importer gym"
      ]
    },
    {
      "cell_type": "code",
      "execution_count": 3,
      "metadata": {
        "id": "yUfiTYxdFPU9",
        "colab": {
          "base_uri": "https://localhost:8080/"
        },
        "outputId": "9a767ddb-606a-48c5-9c67-4c11efdc42af"
      },
      "outputs": [
        {
          "output_type": "stream",
          "name": "stdout",
          "text": [
            "Requirement already satisfied: gymnasium in /usr/local/lib/python3.11/dist-packages (1.1.1)\n",
            "Requirement already satisfied: numpy>=1.21.0 in /usr/local/lib/python3.11/dist-packages (from gymnasium) (1.26.4)\n",
            "Requirement already satisfied: cloudpickle>=1.2.0 in /usr/local/lib/python3.11/dist-packages (from gymnasium) (3.1.1)\n",
            "Requirement already satisfied: typing-extensions>=4.3.0 in /usr/local/lib/python3.11/dist-packages (from gymnasium) (4.12.2)\n",
            "Requirement already satisfied: farama-notifications>=0.0.1 in /usr/local/lib/python3.11/dist-packages (from gymnasium) (0.0.4)\n"
          ]
        }
      ],
      "source": [
        "!pip install gymnasium"
      ]
    },
    {
      "cell_type": "markdown",
      "metadata": {
        "tags": [],
        "id": "bbRzVwF3FPU-"
      },
      "source": [
        "----\n",
        "#### L'environnement Taxi"
      ]
    },
    {
      "cell_type": "code",
      "execution_count": 4,
      "metadata": {
        "id": "v5j7jsN-FPU-"
      },
      "outputs": [],
      "source": [
        "import gymnasium as gym"
      ]
    },
    {
      "cell_type": "markdown",
      "metadata": {
        "id": "4uWrWH_OFPU_"
      },
      "source": [
        "---\n",
        "- Utiliser l'environnement `Taxi-v3`\n",
        "  - le taxi peut se trouver sur une grille 5x5\n",
        "  - le passager peut se trouver : dans le taxi, ou dans un des 4 points B(3),G(1),R(0),Y(2).\n",
        "  - il y a en tout $500$ états possibles : $25\\times 5 \\times 4$\n",
        "  - chaque état est representé par un ensemble: (rangee_taxi, colonne_taxi, position_passager, destination_passager)\n",
        "\n",
        "- les actions sont :\n",
        "  - 0: sud, 1: nord, 2: est, 3: ouest, 4: prendre un passager, 5: déposer un passager\n",
        "\n",
        "- les récompenses sont :\n",
        "    - dépôt d'un passager à destination : +20 points\n",
        "    - action prise en charge incongrue d'un passager : -10 points\n",
        "    - dans les autres cas, chaque état coûte 1 point\n",
        "\n",
        "- Chaque action coûte 1 point, l'arrivée n'en rapporte pas.\n",
        "\n"
      ]
    },
    {
      "cell_type": "markdown",
      "metadata": {
        "id": "JHqUZPvcFPU_"
      },
      "source": [
        "---\n",
        "#### Etude de l'environnement"
      ]
    },
    {
      "cell_type": "code",
      "execution_count": 5,
      "metadata": {
        "id": "fsqsGrYmFPU_",
        "outputId": "cbae32b7-0894-4033-cff5-3f4468367467",
        "colab": {
          "base_uri": "https://localhost:8080/",
          "height": 456
        }
      },
      "outputs": [
        {
          "output_type": "stream",
          "name": "stdout",
          "text": [
            "specification de l'environnement :  EnvSpec(id='Taxi-v3', entry_point='gymnasium.envs.toy_text.taxi:TaxiEnv', reward_threshold=8, nondeterministic=False, max_episode_steps=200, order_enforce=True, disable_env_checker=False, kwargs={'render_mode': 'ansi'}, namespace=None, name='Taxi', version=3, additional_wrappers=(), vector_entry_point=None)\n",
            "espace d'actions :  Discrete(6)\n",
            "espace d'etats :  Discrete(500)\n",
            "+---------+\n",
            "|\u001b[35mR\u001b[0m: | : :\u001b[34;1mG\u001b[0m|\n",
            "| : | : :\u001b[43m \u001b[0m|\n",
            "| : : : : |\n",
            "| | : | : |\n",
            "|Y| : |B: |\n",
            "+---------+\n",
            "\n",
            "\n",
            "********l'etat initial change à chaque reset***** ici s=  (184, {'prob': 1.0, 'action_mask': array([1, 1, 0, 1, 0, 0], dtype=int8)})\n"
          ]
        },
        {
          "output_type": "error",
          "ename": "AttributeError",
          "evalue": "'TimeLimit' object has no attribute 'decode'",
          "traceback": [
            "\u001b[0;31m---------------------------------------------------------------------------\u001b[0m",
            "\u001b[0;31mAttributeError\u001b[0m                            Traceback (most recent call last)",
            "\u001b[0;32m<ipython-input-5-f6c1acfb30aa>\u001b[0m in \u001b[0;36m<cell line: 0>\u001b[0;34m()\u001b[0m\n\u001b[1;32m     10\u001b[0m \u001b[0;34m\u001b[0m\u001b[0m\n\u001b[1;32m     11\u001b[0m \u001b[0mprint\u001b[0m\u001b[0;34m(\u001b[0m\u001b[0;34m\"********l'etat initial change à chaque reset***** ici s= \"\u001b[0m\u001b[0;34m,\u001b[0m\u001b[0ms\u001b[0m\u001b[0;34m)\u001b[0m\u001b[0;34m\u001b[0m\u001b[0;34m\u001b[0m\u001b[0m\n\u001b[0;32m---> 12\u001b[0;31m \u001b[0mx\u001b[0m\u001b[0;34m,\u001b[0m\u001b[0my\u001b[0m\u001b[0;34m,\u001b[0m\u001b[0mpassager_start\u001b[0m\u001b[0;34m,\u001b[0m \u001b[0mpassager_end\u001b[0m  \u001b[0;34m=\u001b[0m \u001b[0menv\u001b[0m\u001b[0;34m.\u001b[0m\u001b[0mdecode\u001b[0m\u001b[0;34m(\u001b[0m\u001b[0ms\u001b[0m\u001b[0;34m[\u001b[0m\u001b[0;36m0\u001b[0m\u001b[0;34m]\u001b[0m\u001b[0;34m)\u001b[0m\u001b[0;34m\u001b[0m\u001b[0;34m\u001b[0m\u001b[0m\n\u001b[0m\u001b[1;32m     13\u001b[0m \u001b[0mprint\u001b[0m\u001b[0;34m(\u001b[0m\u001b[0;34mf\"--> cela correspond à un taxi en ({x},{y}), un passager partant de {lieux[passager_start]} pour {lieux[passager_end]}\"\u001b[0m\u001b[0;34m)\u001b[0m\u001b[0;34m\u001b[0m\u001b[0;34m\u001b[0m\u001b[0m\n\u001b[1;32m     14\u001b[0m \u001b[0;34m\u001b[0m\u001b[0m\n",
            "\u001b[0;31mAttributeError\u001b[0m: 'TimeLimit' object has no attribute 'decode'"
          ]
        }
      ],
      "source": [
        "env = gym.make('Taxi-v3', render_mode='ansi')\n",
        "print(\"specification de l'environnement : \", env.spec)\n",
        "print(\"espace d'actions : \", env.action_space ) #ici 4 actions discrétisée\n",
        "print(\"espace d'etats : \", env.observation_space) #ici 48 cellules possibles\n",
        "actions = { 0:'sud', 1:'nord', 2:'est', 3:'ouest', 4:'prendre un passager', 5: 'déposer un passager'}\n",
        "lieux = {0:'R', 1:'G', 2:'Y', 3:'B'}\n",
        "\n",
        "s = env.reset()\n",
        "print(env.render())\n",
        "\n",
        "print(\"********l'etat initial change à chaque reset***** ici s= \",s)\n",
        "x,y,passager_start, passager_end  = env.decode(s[0])\n",
        "print(f\"--> cela correspond à un taxi en ({x},{y}), un passager partant de {lieux[passager_start]} pour {lieux[passager_end]}\")\n",
        "\n",
        "print(\"Prendre une action au hasard.. \")\n",
        "a = env.action_space.sample()\n",
        "print(\"action choisie=\",actions[a],\"; l'exécuter...\")\n",
        "#on recupère des valeurs en retour\n",
        "new_s, reward, done, truncated, info = env.step(a)\n",
        "print(f\"nouvel état={new_s}, recompense sur cet etat={reward}, etat final (but)={done}, etat feuille={truncated}, info={info}\")\n",
        "#note sous python 3.10, la version de gym retourne 5 valeurs :\n",
        "#new_s, reward, done, goal, info = env.step(a)\n",
        "#print(f\"nouvel état={new_s}, recompense sur cet etat={reward}, etat final (but)={done},etat but={goal}, info={info}\")\n",
        "\n",
        "print(env.render())\n"
      ]
    },
    {
      "cell_type": "markdown",
      "metadata": {
        "id": "nsfG7aRAFPVA"
      },
      "source": [
        "---\n",
        "#### Test des actions\n",
        "\n",
        "Sous Gym, `step` permet d'effectuer une action.\n",
        "En retour la fonction retourne une observation sur l'etat d'arrivee, sa recompense, son type (final ou non), et des informations.\n",
        "\n",
        "Avec la librairie gym installé sous python 3.9, step retourne :\n",
        "  - observation = position où se trouve l'agent,\n",
        "  - reward = recompense,\n",
        "  - done = vrai si état final atteint,\n",
        "  - info = probabilité de succès de l'action.\n",
        "  \n",
        "Avec la librairie gym installé sous python 3.10, step retourne :\n",
        "  - observation = position où se trouve l'agent,\n",
        "  - reward = recompense,\n",
        "  - done = vrai si état final atteint,\n",
        "  - goal = vrai si but atteint,\n",
        "  - info = probabilité de succès de l'action."
      ]
    },
    {
      "cell_type": "markdown",
      "metadata": {
        "id": "p2knufprFPVA"
      },
      "source": [
        "---\n",
        "### <font color=\"red\">Résolution</font>\n"
      ]
    },
    {
      "cell_type": "markdown",
      "metadata": {
        "id": "dWAnCv2dFPVA"
      },
      "source": [
        "---\n",
        "## Exemple d'algorithme"
      ]
    },
    {
      "cell_type": "code",
      "execution_count": 6,
      "metadata": {
        "id": "mIy4_UFsFPVA"
      },
      "outputs": [],
      "source": [
        "import numpy as np\n",
        "import random as rnd\n",
        "\n",
        "env = gym.make('Taxi-v3', render_mode='ansi')\n",
        "actions = { 0:'sud', 1:'nord', 2:'est', 3:'ouest', 4:'prendre un passager', 5: 'déposer un passager'}\n",
        "lieux = {0:'R', 1:'G', 2:'Y', 3:'B'}\n"
      ]
    },
    {
      "cell_type": "code",
      "execution_count": 7,
      "metadata": {
        "id": "zehMzGn5FPVA"
      },
      "outputs": [],
      "source": [
        "# initialiser la Q-Table\n",
        "# autant de cases que l'environnement en possède,\n",
        "# contenant autant de valeurs que d'actions possibles\n",
        "# donc ici une matrice 500 x 4\n",
        "QA = np.zeros([env.observation_space.n,env.action_space.n])\n",
        "QB = np.zeros([env.observation_space.n,env.action_space.n])"
      ]
    },
    {
      "cell_type": "markdown",
      "metadata": {
        "id": "s6v0kukwFPVB"
      },
      "source": [
        "### Mise en place des paramètres\n",
        "\n",
        "Pour rappel avec l'algo de Double Q Learning, on réalise, plus ou moins alternativement :\n",
        "  - $a^* \\gets  argmax_{a} QA(s', a)$,\n",
        "  - $Q_A(s,a) \\gets Q_A(s,a) + \\lambda \\times (r + \\gamma \\times Q_B(s', a^*))-  Q_A(s,a))$ <br>\n",
        "ou<br>\n",
        "  - $b^* \\gets  argmax_{a} Q_B(s', a)$\n",
        "  - $Q_B(s,a) \\gets Q_B(s,a) + \\lambda \\times (r + \\gamma \\times QA(s', b^*))-  Q_B(s,a))$<br>\n",
        "avec\n",
        "    - $\\lambda$ : coef d'apprentissage\n",
        "    - $\\gamma$ : coef de réduction\n",
        "    - $r$ : récompense\n",
        "\n",
        "Cette équation note la qualité de l'action *a* à partir de l'état *s* alternativement dans les tables $Q_A$ et $Q_B$.\n",
        "\n",
        "Initialement, les actions sont choisies aléatoirement et notées; puis au fil des tests les actions les plus valuées sont choisies. Pour cela, un tirage est effectuée, s'il est inférieur à un $\\epsilon$, le choix est aléatoire. Cet $\\epsilon$ décroit au fil des tests."
      ]
    },
    {
      "cell_type": "code",
      "execution_count": 8,
      "metadata": {
        "id": "X6W-tN3VFPVB"
      },
      "outputs": [],
      "source": [
        "lambda_learn = .2\n",
        "gamma = 0.99\n",
        "epsilon = 1."
      ]
    },
    {
      "cell_type": "markdown",
      "metadata": {
        "id": "YgJADNLuFPVB"
      },
      "source": [
        "#### Récupérer la meilleure action\n",
        "`argmax(tab)` retourne l'indice de la plus grande valeur du tableau.\n",
        "\n",
        "`argmax(Q[2])` retourne donc le no de l'action la plus intéressante à partir de l'état 2."
      ]
    },
    {
      "cell_type": "markdown",
      "metadata": {
        "id": "hvJsqbmcFPVB"
      },
      "source": [
        "## L'algorithme de DoubleQ-Learning"
      ]
    },
    {
      "cell_type": "code",
      "execution_count": null,
      "metadata": {
        "id": "NXJ6FcE5FPVB",
        "outputId": "89a8b3aa-27cc-4227-a010-91b50c188703"
      },
      "outputs": [
        {
          "data": {
            "text/plain": [
              "0.0"
            ]
          },
          "execution_count": 6,
          "metadata": {},
          "output_type": "execute_result"
        }
      ],
      "source": [
        "np.max(QA[0, :])"
      ]
    },
    {
      "cell_type": "code",
      "execution_count": 9,
      "metadata": {
        "id": "iiHPRCYrFPVB"
      },
      "outputs": [],
      "source": [
        "##algorithme de Q-Learning simple\n",
        "def q_learn(nb_actions=64):\n",
        "    \"\"\"\n",
        "    effectue un cycle d'apprentissage/recherche de solution' via le Q-Learning simple\n",
        "\n",
        "    Parameters\n",
        "    ----------\n",
        "    epoch : no de l'etape\n",
        "\n",
        "    Returns\n",
        "    -------\n",
        "    total_r : recompense totale\n",
        "    r : recompense du dernier etat rencontre\n",
        "    states_list : liste des etats traverses\n",
        "    actions_list : liste des actions effectuees\n",
        "    goal : but atteint\n",
        "\n",
        "    \"\"\"\n",
        "    s = env.reset()\n",
        "    s = s[0]\n",
        "    total_r = 0\n",
        "    done = False\n",
        "    step = 0\n",
        "    states_list = []\n",
        "    actions_list = []\n",
        "\n",
        "    Q = np.zeros([env.observation_space.n, env.action_space.n])\n",
        "\n",
        "    while not done and step < nb_actions:\n",
        "        step += 1\n",
        "        if rnd.random() < epsilon or np.max(Q[s, :]) == 0:\n",
        "            a = rnd.randint(0, env.action_space.n - 1)\n",
        "        else:\n",
        "            a = np.argmax(Q[s, :])\n",
        "\n",
        "        new_state, r, done, _, _ = env.step(a)\n",
        "\n",
        "        best_next = np.max(Q[new_state, :])\n",
        "        Q[s, a] = Q[s, a] + lambda_learn * (r + gamma * best_next - Q[s, a])\n",
        "\n",
        "        s = new_state\n",
        "        total_r += r\n",
        "        states_list.append(s)\n",
        "        actions_list.append(a)\n",
        "    return total_r, r, states_list, actions_list, Q"
      ]
    },
    {
      "cell_type": "code",
      "execution_count": 17,
      "metadata": {
        "id": "4l_OqpYUFPVB"
      },
      "outputs": [],
      "source": [
        "from tqdm import tqdm\n",
        "\n",
        "def try_qlearn(nb_episodes = 4000, nb_actions = 64):\n",
        "    \"\"\"\n",
        "    lance nb_episodes fois un cycle de Q-Learning et memorise chaque solution trouvee\n",
        "\n",
        "    Returns\n",
        "    -------\n",
        "    solutions_list : liste des solutions (no, recompense totale, liste des etats, liste des actions)\n",
        "    \"\"\"\n",
        "    global epsilon\n",
        "    states_list = []\n",
        "    actions_list = []\n",
        "    solutions_list = []\n",
        "    Q_final = np.zeros([env.observation_space.n, env.action_space.n])\n",
        "\n",
        "    for i in tqdm(range(nb_episodes)):\n",
        "        total_r, r, states_list, actions_list, Q = q_learn(nb_actions)\n",
        "        epsilon = epsilon * 0.995\n",
        "        Q_final += Q\n",
        "        if r == 20:\n",
        "            solutions_list.append((i, total_r, states_list, actions_list))\n",
        "\n",
        "    Q_final /= nb_episodes\n",
        "\n",
        "    if(len(solutions_list) == 0): print(\"aucune solution trouvee !!\")\n",
        "\n",
        "    return solutions_list, Q_final"
      ]
    },
    {
      "cell_type": "markdown",
      "metadata": {
        "id": "Nq6vB2crFPVB"
      },
      "source": [
        "## Affichage de du résultat\n",
        "Affichons maintenant la liste des actions via l'environnement Gymnasium"
      ]
    },
    {
      "cell_type": "code",
      "execution_count": 25,
      "metadata": {
        "id": "uMV46OuXFPVC"
      },
      "outputs": [],
      "source": [
        "def exemple_resolution():\n",
        "    \"\"\" affiche un exemple de solution calculée à partir d'une des tables Q\"\"\"\n",
        "    s = env.reset()\n",
        "    s = s[0]\n",
        "    x,y,depart_passager, arrivee_passager = env.decode(s)\n",
        "    print(f\"à partir de ({x},{y}), prendre un client en {lieux[depart_passager]} pour l'amener en {lieux[arrivee_passager]}\")\n",
        "    goal = False\n",
        "    while not goal:\n",
        "        a = np.argmax(QA[s, :])\n",
        "        s,_,goal,_,_ = env.step(a)\n",
        "        x,y,pos_passager, but_passager = env.decode(s)\n",
        "        goal = pos_passager==but_passager\n",
        "        print(env.render())"
      ]
    },
    {
      "cell_type": "code",
      "execution_count": 19,
      "metadata": {
        "id": "w2t5NyqwFPVC",
        "outputId": "d6225154-5ce0-49a9-bb77-f3759b3a42be",
        "colab": {
          "base_uri": "https://localhost:8080/"
        }
      },
      "outputs": [
        {
          "output_type": "stream",
          "name": "stderr",
          "text": [
            "100%|██████████| 15000/15000 [00:26<00:00, 569.53it/s]\n"
          ]
        }
      ],
      "source": [
        "##ON LANCE LA RESOLUTION :\n",
        "solutions = try_qlearn(15000, 50)\n",
        "if(len(solutions)==0):print(\"pas de solution...\")\n",
        "#relancer le bloc si pas de solution trouvee"
      ]
    },
    {
      "cell_type": "code",
      "execution_count": 26,
      "metadata": {
        "id": "dhpJ82RlFPVC",
        "outputId": "60b3c45f-42f2-4223-be8b-6cc159163cf5",
        "colab": {
          "base_uri": "https://localhost:8080/",
          "height": 280
        }
      },
      "outputs": [
        {
          "output_type": "error",
          "ename": "UnboundLocalError",
          "evalue": "cannot access local variable 'env' where it is not associated with a value",
          "traceback": [
            "\u001b[0;31m---------------------------------------------------------------------------\u001b[0m",
            "\u001b[0;31mUnboundLocalError\u001b[0m                         Traceback (most recent call last)",
            "\u001b[0;32m<ipython-input-26-22698a297760>\u001b[0m in \u001b[0;36m<cell line: 0>\u001b[0;34m()\u001b[0m\n\u001b[1;32m      1\u001b[0m \u001b[0;31m##ON TESTE UNE RESOLUTION :\u001b[0m\u001b[0;34m\u001b[0m\u001b[0;34m\u001b[0m\u001b[0m\n\u001b[0;32m----> 2\u001b[0;31m \u001b[0;32mif\u001b[0m\u001b[0;34m(\u001b[0m\u001b[0mlen\u001b[0m\u001b[0;34m(\u001b[0m\u001b[0msolutions\u001b[0m\u001b[0;34m)\u001b[0m\u001b[0;34m>\u001b[0m\u001b[0;36m0\u001b[0m\u001b[0;34m)\u001b[0m\u001b[0;34m:\u001b[0m\u001b[0mexemple_resolution\u001b[0m\u001b[0;34m(\u001b[0m\u001b[0;34m)\u001b[0m\u001b[0;34m\u001b[0m\u001b[0;34m\u001b[0m\u001b[0m\n\u001b[0m",
            "\u001b[0;32m<ipython-input-25-1f3422b6c6f5>\u001b[0m in \u001b[0;36mexemple_resolution\u001b[0;34m()\u001b[0m\n\u001b[1;32m      1\u001b[0m \u001b[0;32mdef\u001b[0m \u001b[0mexemple_resolution\u001b[0m\u001b[0;34m(\u001b[0m\u001b[0;34m)\u001b[0m\u001b[0;34m:\u001b[0m\u001b[0;34m\u001b[0m\u001b[0;34m\u001b[0m\u001b[0m\n\u001b[1;32m      2\u001b[0m     \u001b[0;34m\"\"\" affiche un exemple de solution calculée à partir d'une des tables Q\"\"\"\u001b[0m\u001b[0;34m\u001b[0m\u001b[0;34m\u001b[0m\u001b[0m\n\u001b[0;32m----> 3\u001b[0;31m     \u001b[0menv\u001b[0m \u001b[0;34m=\u001b[0m \u001b[0menv\u001b[0m\u001b[0;34m.\u001b[0m\u001b[0munwrapped\u001b[0m\u001b[0;34m\u001b[0m\u001b[0;34m\u001b[0m\u001b[0m\n\u001b[0m\u001b[1;32m      4\u001b[0m     \u001b[0ms\u001b[0m \u001b[0;34m=\u001b[0m \u001b[0menv\u001b[0m\u001b[0;34m.\u001b[0m\u001b[0mreset\u001b[0m\u001b[0;34m(\u001b[0m\u001b[0;34m)\u001b[0m\u001b[0;34m\u001b[0m\u001b[0;34m\u001b[0m\u001b[0m\n\u001b[1;32m      5\u001b[0m     \u001b[0ms\u001b[0m \u001b[0;34m=\u001b[0m \u001b[0ms\u001b[0m\u001b[0;34m[\u001b[0m\u001b[0;36m0\u001b[0m\u001b[0;34m]\u001b[0m\u001b[0;34m\u001b[0m\u001b[0;34m\u001b[0m\u001b[0m\n",
            "\u001b[0;31mUnboundLocalError\u001b[0m: cannot access local variable 'env' where it is not associated with a value"
          ]
        }
      ],
      "source": [
        "##ON TESTE UNE RESOLUTION :\n",
        "if(len(solutions)>0):exemple_resolution()"
      ]
    },
    {
      "cell_type": "code",
      "execution_count": 21,
      "metadata": {
        "id": "pUjTaUM0FPVC"
      },
      "outputs": [],
      "source": [
        "import matplotlib.pyplot as plt\n",
        "def plot_frequence_sol(solutions_list):\n",
        "    \"\"\"\n",
        "    dessine la frequence de solution trouvees\n",
        "    Parameters\n",
        "    ----------\n",
        "    solutions : liste des solutions\n",
        "\n",
        "    Returns\n",
        "    -------\n",
        "    None.\n",
        "\n",
        "    \"\"\"\n",
        "    xs = [x[0] for x in solutions_list]\n",
        "    ys = [y[1] for y in solutions_list]\n",
        "    plt.figure(figsize=(10, 4))\n",
        "    plt.plot(xs, ys, '.')\n",
        "    plt.show()\n",
        "\n"
      ]
    },
    {
      "cell_type": "code",
      "execution_count": 22,
      "metadata": {
        "id": "yUtqF461FPVC",
        "outputId": "102c01fa-e1bf-43a8-c07b-82ab3871484d",
        "colab": {
          "base_uri": "https://localhost:8080/",
          "height": 644
        }
      },
      "outputs": [
        {
          "output_type": "error",
          "ename": "ValueError",
          "evalue": "setting an array element with a sequence. The requested array has an inhomogeneous shape after 1 dimensions. The detected shape was (2,) + inhomogeneous part.",
          "traceback": [
            "\u001b[0;31m---------------------------------------------------------------------------\u001b[0m",
            "\u001b[0;31mValueError\u001b[0m                                Traceback (most recent call last)",
            "\u001b[0;32m<ipython-input-22-ebaacbac8631>\u001b[0m in \u001b[0;36m<cell line: 0>\u001b[0;34m()\u001b[0m\n\u001b[0;32m----> 1\u001b[0;31m \u001b[0mplot_frequence_sol\u001b[0m\u001b[0;34m(\u001b[0m\u001b[0msolutions\u001b[0m\u001b[0;34m)\u001b[0m\u001b[0;34m\u001b[0m\u001b[0;34m\u001b[0m\u001b[0m\n\u001b[0m",
            "\u001b[0;32m<ipython-input-21-29da374e0e99>\u001b[0m in \u001b[0;36mplot_frequence_sol\u001b[0;34m(solutions_list)\u001b[0m\n\u001b[1;32m     15\u001b[0m     \u001b[0mys\u001b[0m \u001b[0;34m=\u001b[0m \u001b[0;34m[\u001b[0m\u001b[0my\u001b[0m\u001b[0;34m[\u001b[0m\u001b[0;36m1\u001b[0m\u001b[0;34m]\u001b[0m \u001b[0;32mfor\u001b[0m \u001b[0my\u001b[0m \u001b[0;32min\u001b[0m \u001b[0msolutions_list\u001b[0m\u001b[0;34m]\u001b[0m\u001b[0;34m\u001b[0m\u001b[0;34m\u001b[0m\u001b[0m\n\u001b[1;32m     16\u001b[0m     \u001b[0mplt\u001b[0m\u001b[0;34m.\u001b[0m\u001b[0mfigure\u001b[0m\u001b[0;34m(\u001b[0m\u001b[0mfigsize\u001b[0m\u001b[0;34m=\u001b[0m\u001b[0;34m(\u001b[0m\u001b[0;36m10\u001b[0m\u001b[0;34m,\u001b[0m \u001b[0;36m4\u001b[0m\u001b[0;34m)\u001b[0m\u001b[0;34m)\u001b[0m\u001b[0;34m\u001b[0m\u001b[0;34m\u001b[0m\u001b[0m\n\u001b[0;32m---> 17\u001b[0;31m     \u001b[0mplt\u001b[0m\u001b[0;34m.\u001b[0m\u001b[0mplot\u001b[0m\u001b[0;34m(\u001b[0m\u001b[0mxs\u001b[0m\u001b[0;34m,\u001b[0m \u001b[0mys\u001b[0m\u001b[0;34m,\u001b[0m \u001b[0;34m'.'\u001b[0m\u001b[0;34m)\u001b[0m\u001b[0;34m\u001b[0m\u001b[0;34m\u001b[0m\u001b[0m\n\u001b[0m\u001b[1;32m     18\u001b[0m     \u001b[0mplt\u001b[0m\u001b[0;34m.\u001b[0m\u001b[0mshow\u001b[0m\u001b[0;34m(\u001b[0m\u001b[0;34m)\u001b[0m\u001b[0;34m\u001b[0m\u001b[0;34m\u001b[0m\u001b[0m\n\u001b[1;32m     19\u001b[0m \u001b[0;34m\u001b[0m\u001b[0m\n",
            "\u001b[0;32m/usr/local/lib/python3.11/dist-packages/matplotlib/pyplot.py\u001b[0m in \u001b[0;36mplot\u001b[0;34m(scalex, scaley, data, *args, **kwargs)\u001b[0m\n\u001b[1;32m   3827\u001b[0m     \u001b[0;34m**\u001b[0m\u001b[0mkwargs\u001b[0m\u001b[0;34m,\u001b[0m\u001b[0;34m\u001b[0m\u001b[0;34m\u001b[0m\u001b[0m\n\u001b[1;32m   3828\u001b[0m ) -> list[Line2D]:\n\u001b[0;32m-> 3829\u001b[0;31m     return gca().plot(\n\u001b[0m\u001b[1;32m   3830\u001b[0m         \u001b[0;34m*\u001b[0m\u001b[0margs\u001b[0m\u001b[0;34m,\u001b[0m\u001b[0;34m\u001b[0m\u001b[0;34m\u001b[0m\u001b[0m\n\u001b[1;32m   3831\u001b[0m         \u001b[0mscalex\u001b[0m\u001b[0;34m=\u001b[0m\u001b[0mscalex\u001b[0m\u001b[0;34m,\u001b[0m\u001b[0;34m\u001b[0m\u001b[0;34m\u001b[0m\u001b[0m\n",
            "\u001b[0;32m/usr/local/lib/python3.11/dist-packages/matplotlib/axes/_axes.py\u001b[0m in \u001b[0;36mplot\u001b[0;34m(self, scalex, scaley, data, *args, **kwargs)\u001b[0m\n\u001b[1;32m   1775\u001b[0m         \"\"\"\n\u001b[1;32m   1776\u001b[0m         \u001b[0mkwargs\u001b[0m \u001b[0;34m=\u001b[0m \u001b[0mcbook\u001b[0m\u001b[0;34m.\u001b[0m\u001b[0mnormalize_kwargs\u001b[0m\u001b[0;34m(\u001b[0m\u001b[0mkwargs\u001b[0m\u001b[0;34m,\u001b[0m \u001b[0mmlines\u001b[0m\u001b[0;34m.\u001b[0m\u001b[0mLine2D\u001b[0m\u001b[0;34m)\u001b[0m\u001b[0;34m\u001b[0m\u001b[0;34m\u001b[0m\u001b[0m\n\u001b[0;32m-> 1777\u001b[0;31m         \u001b[0mlines\u001b[0m \u001b[0;34m=\u001b[0m \u001b[0;34m[\u001b[0m\u001b[0;34m*\u001b[0m\u001b[0mself\u001b[0m\u001b[0;34m.\u001b[0m\u001b[0m_get_lines\u001b[0m\u001b[0;34m(\u001b[0m\u001b[0mself\u001b[0m\u001b[0;34m,\u001b[0m \u001b[0;34m*\u001b[0m\u001b[0margs\u001b[0m\u001b[0;34m,\u001b[0m \u001b[0mdata\u001b[0m\u001b[0;34m=\u001b[0m\u001b[0mdata\u001b[0m\u001b[0;34m,\u001b[0m \u001b[0;34m**\u001b[0m\u001b[0mkwargs\u001b[0m\u001b[0;34m)\u001b[0m\u001b[0;34m]\u001b[0m\u001b[0;34m\u001b[0m\u001b[0;34m\u001b[0m\u001b[0m\n\u001b[0m\u001b[1;32m   1778\u001b[0m         \u001b[0;32mfor\u001b[0m \u001b[0mline\u001b[0m \u001b[0;32min\u001b[0m \u001b[0mlines\u001b[0m\u001b[0;34m:\u001b[0m\u001b[0;34m\u001b[0m\u001b[0;34m\u001b[0m\u001b[0m\n\u001b[1;32m   1779\u001b[0m             \u001b[0mself\u001b[0m\u001b[0;34m.\u001b[0m\u001b[0madd_line\u001b[0m\u001b[0;34m(\u001b[0m\u001b[0mline\u001b[0m\u001b[0;34m)\u001b[0m\u001b[0;34m\u001b[0m\u001b[0;34m\u001b[0m\u001b[0m\n",
            "\u001b[0;32m/usr/local/lib/python3.11/dist-packages/matplotlib/axes/_base.py\u001b[0m in \u001b[0;36m__call__\u001b[0;34m(self, axes, data, return_kwargs, *args, **kwargs)\u001b[0m\n\u001b[1;32m    295\u001b[0m                 \u001b[0mthis\u001b[0m \u001b[0;34m+=\u001b[0m \u001b[0margs\u001b[0m\u001b[0;34m[\u001b[0m\u001b[0;36m0\u001b[0m\u001b[0;34m]\u001b[0m\u001b[0;34m,\u001b[0m\u001b[0;34m\u001b[0m\u001b[0;34m\u001b[0m\u001b[0m\n\u001b[1;32m    296\u001b[0m                 \u001b[0margs\u001b[0m \u001b[0;34m=\u001b[0m \u001b[0margs\u001b[0m\u001b[0;34m[\u001b[0m\u001b[0;36m1\u001b[0m\u001b[0;34m:\u001b[0m\u001b[0;34m]\u001b[0m\u001b[0;34m\u001b[0m\u001b[0;34m\u001b[0m\u001b[0m\n\u001b[0;32m--> 297\u001b[0;31m             yield from self._plot_args(\n\u001b[0m\u001b[1;32m    298\u001b[0m                 \u001b[0maxes\u001b[0m\u001b[0;34m,\u001b[0m \u001b[0mthis\u001b[0m\u001b[0;34m,\u001b[0m \u001b[0mkwargs\u001b[0m\u001b[0;34m,\u001b[0m \u001b[0mambiguous_fmt_datakey\u001b[0m\u001b[0;34m=\u001b[0m\u001b[0mambiguous_fmt_datakey\u001b[0m\u001b[0;34m,\u001b[0m\u001b[0;34m\u001b[0m\u001b[0;34m\u001b[0m\u001b[0m\n\u001b[1;32m    299\u001b[0m                 \u001b[0mreturn_kwargs\u001b[0m\u001b[0;34m=\u001b[0m\u001b[0mreturn_kwargs\u001b[0m\u001b[0;34m\u001b[0m\u001b[0;34m\u001b[0m\u001b[0m\n",
            "\u001b[0;32m/usr/local/lib/python3.11/dist-packages/matplotlib/axes/_base.py\u001b[0m in \u001b[0;36m_plot_args\u001b[0;34m(self, axes, tup, kwargs, return_kwargs, ambiguous_fmt_datakey)\u001b[0m\n\u001b[1;32m    481\u001b[0m \u001b[0;34m\u001b[0m\u001b[0m\n\u001b[1;32m    482\u001b[0m         \u001b[0;32mif\u001b[0m \u001b[0mlen\u001b[0m\u001b[0;34m(\u001b[0m\u001b[0mxy\u001b[0m\u001b[0;34m)\u001b[0m \u001b[0;34m==\u001b[0m \u001b[0;36m2\u001b[0m\u001b[0;34m:\u001b[0m\u001b[0;34m\u001b[0m\u001b[0;34m\u001b[0m\u001b[0m\n\u001b[0;32m--> 483\u001b[0;31m             \u001b[0mx\u001b[0m \u001b[0;34m=\u001b[0m \u001b[0m_check_1d\u001b[0m\u001b[0;34m(\u001b[0m\u001b[0mxy\u001b[0m\u001b[0;34m[\u001b[0m\u001b[0;36m0\u001b[0m\u001b[0;34m]\u001b[0m\u001b[0;34m)\u001b[0m\u001b[0;34m\u001b[0m\u001b[0;34m\u001b[0m\u001b[0m\n\u001b[0m\u001b[1;32m    484\u001b[0m             \u001b[0my\u001b[0m \u001b[0;34m=\u001b[0m \u001b[0m_check_1d\u001b[0m\u001b[0;34m(\u001b[0m\u001b[0mxy\u001b[0m\u001b[0;34m[\u001b[0m\u001b[0;36m1\u001b[0m\u001b[0;34m]\u001b[0m\u001b[0;34m)\u001b[0m\u001b[0;34m\u001b[0m\u001b[0;34m\u001b[0m\u001b[0m\n\u001b[1;32m    485\u001b[0m         \u001b[0;32melse\u001b[0m\u001b[0;34m:\u001b[0m\u001b[0;34m\u001b[0m\u001b[0;34m\u001b[0m\u001b[0m\n",
            "\u001b[0;32m/usr/local/lib/python3.11/dist-packages/matplotlib/cbook.py\u001b[0m in \u001b[0;36m_check_1d\u001b[0;34m(x)\u001b[0m\n\u001b[1;32m   1356\u001b[0m             \u001b[0;32mnot\u001b[0m \u001b[0mhasattr\u001b[0m\u001b[0;34m(\u001b[0m\u001b[0mx\u001b[0m\u001b[0;34m,\u001b[0m \u001b[0;34m'ndim'\u001b[0m\u001b[0;34m)\u001b[0m \u001b[0;32mor\u001b[0m\u001b[0;34m\u001b[0m\u001b[0;34m\u001b[0m\u001b[0m\n\u001b[1;32m   1357\u001b[0m             len(x.shape) < 1):\n\u001b[0;32m-> 1358\u001b[0;31m         \u001b[0;32mreturn\u001b[0m \u001b[0mnp\u001b[0m\u001b[0;34m.\u001b[0m\u001b[0matleast_1d\u001b[0m\u001b[0;34m(\u001b[0m\u001b[0mx\u001b[0m\u001b[0;34m)\u001b[0m\u001b[0;34m\u001b[0m\u001b[0;34m\u001b[0m\u001b[0m\n\u001b[0m\u001b[1;32m   1359\u001b[0m     \u001b[0;32melse\u001b[0m\u001b[0;34m:\u001b[0m\u001b[0;34m\u001b[0m\u001b[0;34m\u001b[0m\u001b[0m\n\u001b[1;32m   1360\u001b[0m         \u001b[0;32mreturn\u001b[0m \u001b[0mx\u001b[0m\u001b[0;34m\u001b[0m\u001b[0;34m\u001b[0m\u001b[0m\n",
            "\u001b[0;32m/usr/local/lib/python3.11/dist-packages/numpy/core/shape_base.py\u001b[0m in \u001b[0;36matleast_1d\u001b[0;34m(*arys)\u001b[0m\n\u001b[1;32m     63\u001b[0m     \u001b[0mres\u001b[0m \u001b[0;34m=\u001b[0m \u001b[0;34m[\u001b[0m\u001b[0;34m]\u001b[0m\u001b[0;34m\u001b[0m\u001b[0;34m\u001b[0m\u001b[0m\n\u001b[1;32m     64\u001b[0m     \u001b[0;32mfor\u001b[0m \u001b[0mary\u001b[0m \u001b[0;32min\u001b[0m \u001b[0marys\u001b[0m\u001b[0;34m:\u001b[0m\u001b[0;34m\u001b[0m\u001b[0;34m\u001b[0m\u001b[0m\n\u001b[0;32m---> 65\u001b[0;31m         \u001b[0mary\u001b[0m \u001b[0;34m=\u001b[0m \u001b[0masanyarray\u001b[0m\u001b[0;34m(\u001b[0m\u001b[0mary\u001b[0m\u001b[0;34m)\u001b[0m\u001b[0;34m\u001b[0m\u001b[0;34m\u001b[0m\u001b[0m\n\u001b[0m\u001b[1;32m     66\u001b[0m         \u001b[0;32mif\u001b[0m \u001b[0mary\u001b[0m\u001b[0;34m.\u001b[0m\u001b[0mndim\u001b[0m \u001b[0;34m==\u001b[0m \u001b[0;36m0\u001b[0m\u001b[0;34m:\u001b[0m\u001b[0;34m\u001b[0m\u001b[0;34m\u001b[0m\u001b[0m\n\u001b[1;32m     67\u001b[0m             \u001b[0mresult\u001b[0m \u001b[0;34m=\u001b[0m \u001b[0mary\u001b[0m\u001b[0;34m.\u001b[0m\u001b[0mreshape\u001b[0m\u001b[0;34m(\u001b[0m\u001b[0;36m1\u001b[0m\u001b[0;34m)\u001b[0m\u001b[0;34m\u001b[0m\u001b[0;34m\u001b[0m\u001b[0m\n",
            "\u001b[0;31mValueError\u001b[0m: setting an array element with a sequence. The requested array has an inhomogeneous shape after 1 dimensions. The detected shape was (2,) + inhomogeneous part."
          ]
        },
        {
          "output_type": "display_data",
          "data": {
            "text/plain": [
              "<Figure size 1000x400 with 1 Axes>"
            ],
            "image/png": "[encoded data removed]"
          },
          "metadata": {}
        }
      ],
      "source": [
        "plot_frequence_sol(solutions)"
      ]
    },
    {
      "cell_type": "markdown",
      "metadata": {
        "id": "Du9_BxoSFPVC"
      },
      "source": [
        "np.round(QA, 3)"
      ]
    },
    {
      "cell_type": "markdown",
      "metadata": {
        "id": "JOa7lbV8FPVC"
      },
      "source": [
        "Plus on relance les tests, plus on a de chance de trouver une solution peu coûteuse apparaît..."
      ]
    }
  ],
  "metadata": {
    "kernelspec": {
      "display_name": "Python 3 (ipykernel)",
      "language": "python",
      "name": "python3"
    },
    "language_info": {
      "codemirror_mode": {
        "name": "ipython",
        "version": 3
      },
      "file_extension": ".py",
      "mimetype": "text/x-python",
      "name": "python",
      "nbconvert_exporter": "python",
      "pygments_lexer": "ipython3",
      "version": "3.9.16"
    },
    "colab": {
      "provenance": []
    }
  },
  "nbformat": 4,
  "nbformat_minor": 0
}