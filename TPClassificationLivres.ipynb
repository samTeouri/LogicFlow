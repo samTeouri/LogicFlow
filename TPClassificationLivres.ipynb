{
  "cells": [
    {
      "cell_type": "markdown",
      "metadata": {
        "id": "QQ5vas82illV"
      },
      "source": [
        "<a href=\"https://colab.research.google.com/github/EmmanuelADAM/IntelligenceArtificiellePython/blob/master/TPClassificationLivres.ipynb\" target=\"_parent\"><img src=\"https://colab.research.google.com/assets/colab-badge.svg\" alt=\"Open In Colab\"/></a>\n",
        "---\n",
        "# Classification de commentaires de livres (en français)\n",
        "\n",
        "## Collection de données de critiques de films\n",
        "Le tp utilisera l'ensemble de données issues de\n",
        "[French Book reviews](https://www.kaggle.com/datasets/abireltaief/books-reviews) que vous devez télécharger.\n",
        "\n",
        "Ce fichier CSV contient presque 10000 commentaires sur des livres, leurs notes, et l'avis (positif, négatif ou neutre)."
      ]
    },
    {
      "cell_type": "markdown",
      "metadata": {
        "id": "K8vpRECVlCda"
      },
      "source": [
        "---\n",
        "Vous vous baserez sur la solution à *[Détection de \"sentiments\"](https://github.com/EmmanuelADAM/IntelligenceArtificiellePython/blob/master/SolutionTPDetectionDeSentiments.ipynb)*.\n",
        "\n",
        "Vous adapterez le code présent pour traiter le texte en français.\n",
        "Simpement, les \"stopwords\" seront chargés ainsi :"
      ]
    },
    {
      "cell_type": "code",
      "source": [
        "from os import listdir\n",
        "import pandas as pd\n",
        "from tqdm import tqdm\n",
        "\n",
        "##import pour la creation de tokens\n",
        "import nltk\n",
        "from nltk.corpus import stopwords\n",
        "from nltk.tokenize import wordpunct_tokenize\n",
        "\n",
        "##import pour la gestion de ponctuation\n",
        "from string import punctuation\n",
        "\n",
        "##import pour une collection spécifique : counter\n",
        "from collections import Counter\n",
        "\n",
        "##import pour les réseaux de neurones :\n",
        "import tensorflow.keras as keras\n",
        "from tensorflow.keras.models import Sequential\n",
        "from tensorflow.keras.layers import Dense\n",
        "\n",
        "##import classique pour les tableaux efficaces\n",
        "import numpy as np"
      ],
      "metadata": {
        "id": "_PXHysu6T9Vv"
      },
      "execution_count": 2,
      "outputs": []
    },
    {
      "cell_type": "code",
      "execution_count": 3,
      "metadata": {
        "id": "2-21PcrPlCdb",
        "colab": {
          "base_uri": "https://localhost:8080/"
        },
        "outputId": "36c5f840-2ce0-4308-b074-77c81ebb3234"
      },
      "outputs": [
        {
          "output_type": "stream",
          "name": "stderr",
          "text": [
            "[nltk_data] Downloading package stopwords to /root/nltk_data...\n",
            "[nltk_data]   Unzipping corpora/stopwords.zip.\n",
            "/usr/local/lib/python3.11/dist-packages/huggingface_hub/utils/_auth.py:94: UserWarning: \n",
            "The secret `HF_TOKEN` does not exist in your Colab secrets.\n",
            "To authenticate with the Hugging Face Hub, create a token in your settings tab (https://huggingface.co/settings/tokens), set it as secret in your Google Colab and restart your session.\n",
            "You will be able to reuse this secret in all of your notebooks.\n",
            "Please note that authentication is recommended but still optional to access public models or datasets.\n",
            "  warnings.warn(\n"
          ]
        }
      ],
      "source": [
        "nltk.download(\"stopwords\")\n",
        "stop_words = set(stopwords.words('french'))\n",
        "\n",
        "Series = pd.core.series.Series\n",
        "DataFrame = pd.core.frame.DataFrame\n",
        "\n",
        "df = pd.read_json(\"hf://datasets/Abirate/french_book_reviews/french_books_reviews.jsonl\", lines=True)\n",
        "reader_reviews:Series = df[\"reader_review\"]"
      ]
    },
    {
      "cell_type": "markdown",
      "metadata": {
        "id": "Y9QOWf-elCdi"
      },
      "source": [
        "---\n",
        "A partir de la colonne 'reader_review' plusieurs classements sont possibles :\n",
        "- soit le classement de valeurs entre -1 et 1 (ce qui correspond à la colonne 'label')\n",
        "- soit le classement par une note entre . et 5 (ce qui correspond à la colonne 'rating')\n",
        "\n",
        "*N.B. la fonction d'activation sigmoid pren ses valeurs dans [0,1], l'activation en utilisant la tangente hyperboliquye 'tanh' prend ses valeus dans [-1, 1]*"
      ]
    },
    {
      "cell_type": "code",
      "execution_count": 4,
      "metadata": {
        "id": "rpoDE5M2lCdj"
      },
      "outputs": [],
      "source": [
        "def clean_doc(doc:str)->list:\n",
        "    \"\"\"retourne la liste de mots clés inclus dans le texte doc\n",
        "    qui ne font pas parti des stop_words\"\"\"\n",
        "    # split into tokens by white space\n",
        "    tokens = wordpunct_tokenize(doc)\n",
        "    # remove remaining tokens that are not alphabetic\n",
        "    tokens = [word.lower() for word in tokens if word.isalpha()]\n",
        "    # filter out stop words\n",
        "    tokens = [w for w in tokens if not w in stop_words]\n",
        "    # filter out short tokens\n",
        "    tokens = [word for word in tokens if len(word) > 2]\n",
        "    return tokens\n",
        "\n",
        "def add_doc_to_vocab(reader_review:str, vocab:Counter):\n",
        "    \"\"\"cumule dans la liste vocab les mots de la review\n",
        "    (1 seule occurrence par mot dans vocab)\"\"\"\n",
        "    # clean doc\n",
        "    tokens = clean_doc(reader_review)\n",
        "    # update counts\n",
        "    vocab.update(tokens)\n",
        "\n",
        "def build_voc(serie:Series, vocab:Counter):\n",
        "    \"\"\"ajoute au dictionnaire vocab les mots cles de 90% de la serie de données\"\"\"\n",
        "    i=0\n",
        "    nb = int(serie.size)\n",
        "    # walk through all files in the folder\n",
        "    for i in tqdm(range(nb)):\n",
        "        # add doc to vocab\n",
        "        add_doc_to_vocab(serie[i], vocab)"
      ]
    },
    {
      "cell_type": "code",
      "source": [
        "# creer un vocabulaire (liste de mots clés associés à leurs occurrences)\n",
        "vocab:Counter = Counter()\n",
        "build_voc(reader_reviews, vocab)\n",
        "# afficher le nb de mots cles trouves\n",
        "print(\"nb de mots cles trouves dans les repertoires : \", len(vocab))\n",
        "print(\"les 10 premiers mots cles du vocabulaire \\\n",
        "(et leur nb d\\'apparition dans les exemples)  : \\n\", end='')\n",
        "i:int=0\n",
        "for (mot,count) in vocab.items():\n",
        "    print(mot,':',count,end=\", \")\n",
        "    i = i+1\n",
        "    if i>10:break\n",
        "# afficher les 10 mots cles les plus utilises\n",
        "print(\"\\nles 10 mots cles les plus utilises : \", vocab.most_common(10))"
      ],
      "metadata": {
        "colab": {
          "base_uri": "https://localhost:8080/"
        },
        "id": "bRZRgCd1ZO0R",
        "outputId": "e54cc992-8a3b-4d77-f24f-4cae2d790555"
      },
      "execution_count": 5,
      "outputs": [
        {
          "output_type": "stream",
          "name": "stderr",
          "text": [
            "100%|██████████| 9658/9658 [00:00<00:00, 19681.98it/s]"
          ]
        },
        {
          "output_type": "stream",
          "name": "stdout",
          "text": [
            "nb de mots cles trouves dans les repertoires :  33512\n",
            "les 10 premiers mots cles du vocabulaire (et leur nb d'apparition dans les exemples)  : \n",
            "premier : 666, roman : 2083, aborder : 32, thèmes : 72, lourds : 5, inceste : 6, enfance : 141, martyre : 1, fait : 1339, audace : 10, brio : 22, \n",
            "les 10 mots cles les plus utilises :  [('plus', 2435), ('livre', 2380), ('cette', 2223), ('tout', 2097), ('roman', 2083), ('histoire', 1978), ('bien', 1853), ('très', 1814), ('fait', 1339), ('comme', 1273)]\n"
          ]
        },
        {
          "output_type": "stream",
          "name": "stderr",
          "text": [
            "\n"
          ]
        }
      ]
    },
    {
      "cell_type": "code",
      "source": [
        "#Ajout de stop words\n",
        "stop_words.add('livre')\n",
        "stop_words.add('cette')\n",
        "stop_words.add('roman')\n",
        "stop_words.add('comme')\n",
        "stop_words.add('histoire')\n",
        "stop_words.add('être')\n",
        "stop_words.add('tout')\n",
        "stop_words.add('lecture')\n",
        "stop_words.add('fait')\n",
        "stop_words.add('personnages')\n",
        "stop_words.add('tome')\n",
        "stop_words.add('deux')\n",
        "stop_words.add('aussi')\n",
        "stop_words.add('lire')\n",
        "stop_words.add('auteur')\n",
        "stop_words.add('faire')\n",
        "stop_words.add('entre')\n",
        "stop_words.add('après')\n",
        "stop_words.add('avoir')"
      ],
      "metadata": {
        "id": "PjN5wK42ZFT3"
      },
      "execution_count": 6,
      "outputs": []
    },
    {
      "cell_type": "code",
      "source": [
        "#verification en recréant un vocabulaire (liste de mots clés associés à leurs occurrences)\n",
        "vocab:Counter = Counter()\n",
        "build_voc(reader_reviews, vocab)\n",
        "# afficher le nb de mots cles trouves\n",
        "print(\"nb de mots cles trouves dans les repertoires : \", len(vocab))\n",
        "print(\"les 10 premiers mots cles du vocabulaire \\\n",
        "(et leur nb d\\'apparition dans les exemples)  : \\n\", end='')\n",
        "i:int=0\n",
        "for (mot,count) in vocab.items():\n",
        "    print(mot,':',count,end=\", \")\n",
        "    i = i+1\n",
        "    if i>10:break\n",
        "# afficher les 10 mots cles les plus utilises\n",
        "print(\"\\nles 10 mots cles les plus utilises : \", vocab.most_common(10))"
      ],
      "metadata": {
        "colab": {
          "base_uri": "https://localhost:8080/"
        },
        "id": "uXey7l1ZcCpo",
        "outputId": "21d64a47-19bc-49c7-c25e-46e6415c3a7b"
      },
      "execution_count": 7,
      "outputs": [
        {
          "output_type": "stream",
          "name": "stderr",
          "text": [
            "100%|██████████| 9658/9658 [00:00<00:00, 12007.68it/s]"
          ]
        },
        {
          "output_type": "stream",
          "name": "stdout",
          "text": [
            "nb de mots cles trouves dans les repertoires :  33493\n",
            "les 10 premiers mots cles du vocabulaire (et leur nb d'apparition dans les exemples)  : \n",
            "premier : 666, aborder : 32, thèmes : 72, lourds : 5, inceste : 6, enfance : 141, martyre : 1, audace : 10, brio : 22, incomparables : 1, rendent : 22, \n",
            "les 10 mots cles les plus utilises :  [('plus', 2435), ('bien', 1853), ('très', 1814), ('peu', 1167), ('vie', 1031), ('sans', 970), ('beaucoup', 912), ('premier', 666), ('petit', 663), ('temps', 649)]\n"
          ]
        },
        {
          "output_type": "stream",
          "name": "stderr",
          "text": [
            "\n"
          ]
        }
      ]
    },
    {
      "cell_type": "code",
      "source": [
        "# ne garder que les mots clés apparaissant au moins x fois\n",
        "min_occurrence:int = 50\n",
        "tokens:list = [token for (token,count) in vocab.items() if count >= min_occurrence]\n",
        "print('en otant les mots utilise moins de ', min_occurrence, ' fois,',\n",
        "      ' nb de mots cles = ',len(tokens))"
      ],
      "metadata": {
        "id": "XbUdPm3wm84t",
        "outputId": "07851b4a-3da6-48ce-90d7-3299695a23dc",
        "colab": {
          "base_uri": "https://localhost:8080/"
        }
      },
      "execution_count": 8,
      "outputs": [
        {
          "output_type": "stream",
          "name": "stdout",
          "text": [
            "en otant les mots utilise moins de  50  fois,  nb de mots cles =  840\n"
          ]
        }
      ]
    },
    {
      "cell_type": "code",
      "source": [
        "def save_list(lines:list, filename:str):\n",
        "    \"\"\"sauve les mots de la liste de commentaires lines dans le fichier filename\"\"\"\n",
        "    # convert lines to a single blob of text\n",
        "    data = '\\n'.join(lines)\n",
        "    # open file\n",
        "    file = open(filename, 'w')\n",
        "    # write text\n",
        "    file.write(data)\n",
        "    # close file\n",
        "    file.close()\n",
        "\n",
        "rep = '/content/'\n",
        "\n",
        "# save tokens to a vocabulary file\n",
        "save_list(tokens, rep+'vocab.txt')\n",
        "\n",
        "def load_doc(filename:str)->str:\n",
        "    \"\"\"retourne le texte inclu dans le fichier filename\"\"\"\n",
        "    # open the file as read only\n",
        "    file = open(filename, 'r')\n",
        "    # read all text\n",
        "    text = file.read()\n",
        "    # close the file\n",
        "    file.close()\n",
        "    return text\n",
        "\n",
        "def vocab_in_doc(texte:str, vocab:list)->list:\n",
        "    \"\"\"retourne la liste des mots cles du texte qui appartenant au vocabulaire vocab\"\"\"\n",
        "    # clean doc\n",
        "    tokens = clean_doc(texte)\n",
        "    # filter by vocab\n",
        "    tokens = [token for token in tokens if token in vocab]\n",
        "    return ' '.join(tokens)\n",
        "\n",
        "def process_docs(serie:list, vocab:list)->list:\n",
        "    \"\"\"retourne une listes des mots cles des textes contenu dans la serie de texte\"\"\"\n",
        "    lines = list()\n",
        "\n",
        "    nb = int(serie.size*0.9)\n",
        "    # walk through all files in the folder\n",
        "    for i in tqdm(range(serie.size)):\n",
        "        line = vocab_in_doc(serie[i], vocab)\n",
        "        lines.append(line)\n",
        "    return lines\n",
        "\n",
        "vocab_filename = 'vocab.txt'\n",
        "vocab = load_doc(rep+vocab_filename)\n",
        "vocab = vocab.split()\n",
        "vocab = set(vocab)\n",
        "\n",
        "reader_reviews = reader_reviews[:10000]\n",
        "\n",
        "# load training and testing reviews\n",
        "lines_input:list = process_docs(reader_reviews, vocab)\n",
        "nb_input:int = len(lines_input)\n",
        "\n",
        "# summarize what we have\n",
        "print(\"nb exemples : \", nb_input)"
      ],
      "metadata": {
        "id": "2RerG0zZnE-w",
        "outputId": "7c4875f6-2c31-4182-aa8c-b53f0d2fe87a",
        "colab": {
          "base_uri": "https://localhost:8080/"
        }
      },
      "execution_count": 9,
      "outputs": [
        {
          "output_type": "stream",
          "name": "stderr",
          "text": [
            "100%|██████████| 9658/9658 [00:00<00:00, 21288.33it/s]"
          ]
        },
        {
          "output_type": "stream",
          "name": "stdout",
          "text": [
            "nb exemples :  9658\n"
          ]
        },
        {
          "output_type": "stream",
          "name": "stderr",
          "text": [
            "\n"
          ]
        }
      ]
    },
    {
      "cell_type": "code",
      "source": [
        "# create the tokenizer\n",
        "tokenizer = keras.preprocessing.text.Tokenizer()\n",
        "tokenizer.fit_on_texts(lines_input)\n",
        "xTrain:np.ndarray = tokenizer.texts_to_matrix(lines_input, mode='freq')"
      ],
      "metadata": {
        "id": "Wrg-YdDkyKbw"
      },
      "execution_count": 10,
      "outputs": []
    },
    {
      "cell_type": "code",
      "source": [
        "print('Xtrain contient ', xTrain.shape[0], ' exemples de ', xTrain.shape[1], ' valeurs')\n",
        "print('une valeur = fréquence d\\'apparition des mots dans le vocabulaire global.')\n",
        "print('Ainsi, premier exemple d\\'entrainement = \\n', xTrain[0])"
      ],
      "metadata": {
        "id": "16wybhigyOk1",
        "outputId": "53ceae11-c5b4-4238-b7d9-ba414d71c31e",
        "colab": {
          "base_uri": "https://localhost:8080/"
        }
      },
      "execution_count": 11,
      "outputs": [
        {
          "output_type": "stream",
          "name": "stdout",
          "text": [
            "Xtrain contient  9658  exemples de  841  valeurs\n",
            "une valeur = fréquence d'apparition des mots dans le vocabulaire global.\n",
            "Ainsi, premier exemple d'entrainement = \n",
            " [0.   0.04 0.   0.   0.   0.08 0.   0.   0.04 0.   0.   0.   0.   0.\n",
            " 0.   0.   0.   0.   0.   0.   0.   0.   0.   0.   0.   0.   0.   0.\n",
            " 0.   0.   0.   0.   0.   0.   0.   0.   0.   0.   0.   0.   0.   0.\n",
            " 0.   0.   0.   0.   0.04 0.   0.   0.04 0.   0.   0.   0.   0.   0.\n",
            " 0.   0.   0.   0.   0.   0.   0.   0.   0.   0.   0.   0.04 0.   0.\n",
            " 0.   0.   0.   0.   0.   0.   0.   0.   0.   0.   0.   0.   0.   0.\n",
            " 0.   0.   0.   0.   0.   0.   0.   0.   0.   0.   0.   0.   0.   0.\n",
            " 0.   0.   0.   0.   0.   0.   0.   0.   0.04 0.   0.   0.   0.   0.\n",
            " 0.   0.   0.   0.   0.   0.   0.04 0.   0.   0.   0.   0.   0.   0.\n",
            " 0.   0.   0.   0.   0.   0.   0.   0.   0.08 0.   0.   0.   0.   0.\n",
            " 0.   0.   0.   0.   0.   0.   0.   0.04 0.   0.   0.   0.   0.   0.\n",
            " 0.   0.   0.   0.04 0.   0.   0.   0.   0.   0.   0.   0.   0.   0.\n",
            " 0.   0.   0.   0.   0.   0.   0.04 0.   0.   0.   0.   0.   0.   0.\n",
            " 0.   0.   0.   0.   0.   0.   0.   0.   0.   0.   0.   0.   0.   0.\n",
            " 0.   0.   0.   0.   0.   0.   0.   0.   0.   0.   0.   0.   0.   0.\n",
            " 0.   0.   0.   0.   0.   0.   0.   0.   0.   0.   0.   0.   0.   0.\n",
            " 0.   0.   0.   0.   0.   0.   0.   0.   0.   0.   0.   0.   0.   0.\n",
            " 0.   0.   0.   0.   0.   0.   0.   0.   0.   0.   0.   0.   0.   0.\n",
            " 0.04 0.   0.   0.   0.   0.   0.   0.   0.   0.   0.   0.   0.   0.\n",
            " 0.08 0.   0.   0.   0.   0.   0.   0.   0.   0.   0.   0.   0.   0.\n",
            " 0.   0.   0.   0.   0.   0.   0.   0.   0.   0.   0.   0.   0.   0.\n",
            " 0.   0.   0.   0.   0.   0.   0.   0.   0.   0.04 0.   0.   0.   0.\n",
            " 0.04 0.   0.   0.   0.   0.   0.   0.   0.   0.   0.   0.   0.   0.\n",
            " 0.   0.   0.   0.   0.   0.   0.   0.   0.   0.   0.   0.   0.   0.\n",
            " 0.   0.   0.   0.   0.   0.   0.   0.   0.   0.   0.   0.   0.   0.\n",
            " 0.   0.   0.   0.   0.   0.   0.   0.   0.   0.   0.   0.   0.   0.\n",
            " 0.   0.   0.   0.   0.   0.   0.   0.   0.   0.   0.   0.   0.   0.\n",
            " 0.   0.   0.   0.   0.   0.   0.   0.   0.   0.   0.   0.   0.   0.\n",
            " 0.   0.   0.   0.   0.   0.   0.   0.   0.   0.   0.   0.   0.   0.\n",
            " 0.   0.   0.   0.   0.   0.   0.   0.   0.   0.   0.   0.   0.   0.\n",
            " 0.   0.   0.   0.   0.   0.   0.   0.   0.   0.   0.   0.   0.   0.\n",
            " 0.   0.   0.   0.   0.   0.   0.   0.   0.   0.12 0.   0.   0.   0.\n",
            " 0.   0.   0.   0.   0.   0.   0.   0.   0.   0.   0.   0.   0.   0.\n",
            " 0.   0.   0.   0.   0.   0.   0.   0.   0.   0.   0.   0.   0.   0.\n",
            " 0.   0.   0.   0.04 0.   0.   0.   0.   0.   0.   0.   0.   0.   0.\n",
            " 0.   0.   0.   0.   0.   0.   0.   0.   0.   0.   0.   0.   0.   0.\n",
            " 0.   0.   0.   0.   0.   0.   0.   0.   0.   0.   0.   0.   0.   0.\n",
            " 0.   0.   0.   0.   0.   0.   0.   0.   0.   0.   0.   0.   0.   0.\n",
            " 0.   0.   0.   0.   0.   0.   0.   0.   0.   0.   0.   0.   0.   0.\n",
            " 0.   0.   0.   0.   0.   0.   0.   0.   0.   0.   0.   0.   0.   0.\n",
            " 0.   0.   0.   0.   0.   0.   0.04 0.   0.   0.   0.   0.   0.   0.\n",
            " 0.   0.   0.   0.   0.   0.   0.   0.   0.   0.   0.   0.   0.   0.\n",
            " 0.   0.   0.   0.   0.   0.   0.   0.   0.   0.   0.   0.   0.   0.\n",
            " 0.   0.   0.   0.   0.   0.   0.   0.   0.   0.   0.   0.   0.   0.\n",
            " 0.   0.   0.   0.   0.   0.   0.   0.   0.   0.   0.   0.   0.   0.\n",
            " 0.   0.   0.   0.   0.   0.   0.   0.   0.   0.   0.   0.   0.   0.\n",
            " 0.   0.   0.   0.   0.   0.   0.   0.   0.   0.   0.   0.   0.   0.\n",
            " 0.   0.   0.   0.   0.   0.   0.   0.   0.   0.   0.   0.   0.   0.\n",
            " 0.   0.   0.   0.   0.   0.   0.   0.   0.   0.   0.   0.   0.   0.\n",
            " 0.   0.   0.   0.   0.   0.   0.   0.   0.   0.   0.   0.   0.   0.\n",
            " 0.   0.   0.   0.   0.04 0.   0.   0.   0.   0.   0.   0.   0.   0.\n",
            " 0.   0.   0.   0.   0.   0.   0.   0.   0.   0.   0.   0.   0.   0.\n",
            " 0.   0.   0.   0.   0.   0.   0.   0.   0.   0.   0.   0.   0.   0.\n",
            " 0.   0.   0.   0.   0.   0.   0.   0.   0.   0.   0.   0.   0.   0.\n",
            " 0.   0.   0.   0.   0.   0.   0.   0.   0.   0.   0.   0.   0.   0.\n",
            " 0.   0.   0.   0.   0.   0.   0.   0.   0.   0.   0.   0.   0.   0.\n",
            " 0.   0.   0.   0.   0.   0.   0.   0.   0.   0.   0.   0.   0.   0.\n",
            " 0.   0.   0.   0.   0.   0.   0.   0.   0.   0.   0.   0.   0.   0.\n",
            " 0.   0.   0.   0.   0.   0.   0.   0.   0.   0.   0.   0.   0.   0.\n",
            " 0.   0.   0.   0.   0.   0.   0.   0.   0.   0.   0.   0.   0.   0.\n",
            " 0.  ]\n"
          ]
        }
      ]
    },
    {
      "cell_type": "code",
      "source": [
        "np.sum(xTrain[0])"
      ],
      "metadata": {
        "id": "BNZoHhKHysNv",
        "outputId": "719158aa-515c-4eab-905a-df594ef55964",
        "colab": {
          "base_uri": "https://localhost:8080/"
        }
      },
      "execution_count": 12,
      "outputs": [
        {
          "output_type": "execute_result",
          "data": {
            "text/plain": [
              "np.float64(1.0)"
            ]
          },
          "metadata": {},
          "execution_count": 12
        }
      ]
    },
    {
      "cell_type": "code",
      "source": [
        "labels:Series  = df['label']\n",
        "labels_output:Series = labels[:nb_input]\n",
        "yOutput:np.ndarray = np.zeros((nb_input, 1))\n",
        "for i in range(nb_input):\n",
        "    if labels_output[i]=='positive': yOutput[i]=1"
      ],
      "metadata": {
        "id": "8pNVaLL71x7E"
      },
      "execution_count": 13,
      "outputs": []
    },
    {
      "cell_type": "code",
      "source": [
        "#le nb de neurones en entrée (= nb de tokens retenus)\n",
        "n_words = xTrain.shape[1]\n",
        "n_words"
      ],
      "metadata": {
        "id": "oLKKxjRa3t0t",
        "outputId": "46c62ca3-9591-47a8-d454-1cd7fb51c20b",
        "colab": {
          "base_uri": "https://localhost:8080/"
        }
      },
      "execution_count": 14,
      "outputs": [
        {
          "output_type": "execute_result",
          "data": {
            "text/plain": [
              "841"
            ]
          },
          "metadata": {},
          "execution_count": 14
        }
      ]
    },
    {
      "cell_type": "code",
      "source": [
        "#  définir la structure du réseau\n",
        "model = Sequential()\n",
        "model.add(Dense(n_words//3, input_shape=(n_words,), activation='elu'))\n",
        "model.add(Dense(n_words//27, activation='elu'))\n",
        "model.add(Dense(n_words//243, activation='elu'))\n",
        "model.add(Dense(1, activation='sigmoid'))\n",
        "# compile network\n",
        "model.compile(loss='hinge', optimizer='adam',  metrics=['accuracy'])"
      ],
      "metadata": {
        "id": "X-7Lpy8P4EhA",
        "outputId": "ca7c5f1d-e660-4b0d-985a-420e2f5b5e28",
        "colab": {
          "base_uri": "https://localhost:8080/"
        }
      },
      "execution_count": 15,
      "outputs": [
        {
          "output_type": "stream",
          "name": "stderr",
          "text": [
            "/usr/local/lib/python3.11/dist-packages/keras/src/layers/core/dense.py:87: UserWarning: Do not pass an `input_shape`/`input_dim` argument to a layer. When using Sequential models, prefer using an `Input(shape)` object as the first layer in the model instead.\n",
            "  super().__init__(activity_regularizer=activity_regularizer, **kwargs)\n"
          ]
        }
      ]
    },
    {
      "cell_type": "code",
      "source": [
        "#TODO tester differents nb de tests (epochs)\n",
        "history = model.fit(xTrain, yOutput,\n",
        "                    validation_split = 0.1,\n",
        "#                    validation_data=(xTest, yTest),\n",
        "                    batch_size=500,\n",
        "#                    steps_per_epoch=10,\n",
        "                    epochs=10,\n",
        "                    verbose=2)"
      ],
      "metadata": {
        "id": "h2NjVM2n4PDa",
        "outputId": "87c51bf3-54e4-427d-ce18-56a8772d816b",
        "colab": {
          "base_uri": "https://localhost:8080/"
        }
      },
      "execution_count": 16,
      "outputs": [
        {
          "output_type": "stream",
          "name": "stdout",
          "text": [
            "Epoch 1/10\n",
            "18/18 - 2s - 113ms/step - accuracy: 0.9739 - loss: 1.2795 - val_accuracy: 1.0000 - val_loss: 1.0546\n",
            "Epoch 2/10\n",
            "18/18 - 0s - 18ms/step - accuracy: 1.0000 - loss: 1.0169 - val_accuracy: 1.0000 - val_loss: 1.0034\n",
            "Epoch 3/10\n",
            "18/18 - 0s - 18ms/step - accuracy: 1.0000 - loss: 1.0018 - val_accuracy: 1.0000 - val_loss: 1.0013\n",
            "Epoch 4/10\n",
            "18/18 - 0s - 18ms/step - accuracy: 1.0000 - loss: 1.0009 - val_accuracy: 1.0000 - val_loss: 1.0009\n",
            "Epoch 5/10\n",
            "18/18 - 1s - 34ms/step - accuracy: 1.0000 - loss: 1.0007 - val_accuracy: 1.0000 - val_loss: 1.0008\n",
            "Epoch 6/10\n",
            "18/18 - 0s - 17ms/step - accuracy: 1.0000 - loss: 1.0006 - val_accuracy: 1.0000 - val_loss: 1.0007\n",
            "Epoch 7/10\n",
            "18/18 - 1s - 35ms/step - accuracy: 1.0000 - loss: 1.0005 - val_accuracy: 1.0000 - val_loss: 1.0006\n",
            "Epoch 8/10\n",
            "18/18 - 1s - 35ms/step - accuracy: 1.0000 - loss: 1.0004 - val_accuracy: 1.0000 - val_loss: 1.0005\n",
            "Epoch 9/10\n",
            "18/18 - 1s - 33ms/step - accuracy: 1.0000 - loss: 1.0004 - val_accuracy: 1.0000 - val_loss: 1.0004\n",
            "Epoch 10/10\n",
            "18/18 - 0s - 17ms/step - accuracy: 1.0000 - loss: 1.0003 - val_accuracy: 1.0000 - val_loss: 1.0004\n"
          ]
        }
      ]
    },
    {
      "cell_type": "code",
      "source": [
        "history_dict = history.history\n",
        "history_dict.keys()"
      ],
      "metadata": {
        "id": "yM1zx8JI4Uut",
        "outputId": "9226ceac-5460-4d1c-8e7e-acb6ea1b461d",
        "colab": {
          "base_uri": "https://localhost:8080/"
        }
      },
      "execution_count": 17,
      "outputs": [
        {
          "output_type": "execute_result",
          "data": {
            "text/plain": [
              "dict_keys(['accuracy', 'loss', 'val_accuracy', 'val_loss'])"
            ]
          },
          "metadata": {},
          "execution_count": 17
        }
      ]
    },
    {
      "cell_type": "code",
      "source": [
        "import matplotlib.pyplot as plt\n",
        "\n",
        "loss = history_dict['loss']\n",
        "val_loss = history_dict['val_loss']\n",
        "\n",
        "epochs = range(1, len(loss) + 1)\n",
        "\n",
        "# draw the loss evolution in blue\n",
        "plt.plot(epochs, loss, 'b-*', label='erreur sur exemples d\\'apprentissage')\n",
        "# draw the accuracy evolution in blue\n",
        "plt.plot(epochs, val_loss, 'r-*', label='erreur sur exemples de validation')\n",
        "plt.title('Erreur')\n",
        "plt.xlabel('Epochs')\n",
        "plt.ylabel('Erreur')\n",
        "plt.legend()\n",
        "\n",
        "plt.show()"
      ],
      "metadata": {
        "id": "CVJpI2nR4Z1u",
        "outputId": "41b94cd9-b8a7-4bd8-e9f5-947d5d2883a3",
        "colab": {
          "base_uri": "https://localhost:8080/",
          "height": 472
        }
      },
      "execution_count": 19,
      "outputs": [
        {
          "output_type": "display_data",
          "data": {
            "text/plain": [
              "<Figure size 640x480 with 1 Axes>"
            ],
            "image/png": "[encoded data removed]"
          },
          "metadata": {}
        }
      ]
    },
    {
      "cell_type": "code",
      "source": [
        "acc = history_dict['accuracy']\n",
        "val_acc = history_dict['val_accuracy']\n",
        "\n",
        "epochs = range(1, len(loss) + 1)\n",
        "\n",
        "# draw the loss evolution in blue\n",
        "plt.plot(epochs, acc, 'b-*', label='précision sur exemples d\\'apprentissage')\n",
        "# draw the accuracy evolution in blue\n",
        "plt.plot(epochs, val_acc, 'r-*', label='précision sur exemples de validation')\n",
        "plt.title('précision')\n",
        "plt.xlabel('Epochs')\n",
        "plt.ylabel('précision')\n",
        "plt.legend()\n",
        "\n",
        "plt.show()"
      ],
      "metadata": {
        "id": "7lx7DLBp4nrf",
        "outputId": "d183833a-cb16-4b12-b268-6b571c293d43",
        "colab": {
          "base_uri": "https://localhost:8080/",
          "height": 472
        }
      },
      "execution_count": 20,
      "outputs": [
        {
          "output_type": "display_data",
          "data": {
            "text/plain": [
              "<Figure size 640x480 with 1 Axes>"
            ],
            "image/png": "[encoded data removed]"
          },
          "metadata": {}
        }
      ]
    },
    {
      "cell_type": "code",
      "source": [
        "def predict_label(review, vocab, tokenizer, model):\n",
        "    \"\"\"classifie le texte dans la variable 'review' en positif (0) ou negatif (1) \"\"\"\n",
        "    # clean\n",
        "    tokens = clean_doc(review)\n",
        "    # filter by vocab\n",
        "    tokens = [w for w in tokens if w in vocab]\n",
        "    # convert to line\n",
        "    line = ' '.join(tokens)\n",
        "    # create the bag of words with the words used in the line\n",
        "    encoded = tokenizer.texts_to_matrix([line], mode='freq')\n",
        "    # prediction, output is a vector of (1x1) here (output of the neural network is a vector of 1 element)\n",
        "    output = model.predict(encoded, verbose=0)\n",
        "    estimation = output[0,0]\n",
        "    return estimation"
      ],
      "metadata": {
        "id": "dPzIsV-v4zak"
      },
      "execution_count": 21,
      "outputs": []
    },
    {
      "cell_type": "code",
      "source": [
        "# test\n",
        "text = \"Je n’ai pas appris beaucoup de nouvelles choses en lisant ce livre, mais il a l’avantage de rappeler l’histoire du RN et de l’extrême droite, et les conséquences d’une potentielle accession au pouvoir. Les arguments sont clairs et étayés et c’est très agréable.J’ai aussi apprécié la dernière partie, sur l’importance de s’investir en tant que citoyen pour faire vivre le dialogue et la démocratie\"\n",
        "resultat = predict_label(text, vocab, tokenizer, model)\n",
        "print('\\'',text,'\\'\\n ------> est considere comme ', 'positif' if resultat>0.5 else 'negatif')\n",
        "print(resultat)\n",
        "\n",
        "text = \"J'ai laissé passé du temps avec de lire le 3ème tome, car j'avais trouvé \\\"Il était deux fois\\\" redondant avec le tome 1. Cela a été bénéfique, car j'ai eu plus de facilité à passer outre les répétitions de scènes de dépravation et de violence, qui ont tendance à me lasser, et j'ai pu apprécier le mécanisme de récit à 4 narratrices.\"\n",
        "resultat = predict_label(text, vocab, tokenizer, model)\n",
        "print('\\'',text,'\\'\\n ------> est considere comme ', 'positif' if resultat>0.5 else 'negatif')\n",
        "print(resultat)"
      ],
      "metadata": {
        "id": "QyL-jP5P5tJ8",
        "outputId": "9f720d22-588f-4806-f6f1-c49b3a760bca",
        "colab": {
          "base_uri": "https://localhost:8080/"
        }
      },
      "execution_count": 24,
      "outputs": [
        {
          "output_type": "stream",
          "name": "stdout",
          "text": [
            "' Je n’ai pas appris beaucoup de nouvelles choses en lisant ce livre, mais il a l’avantage de rappeler l’histoire du RN et de l’extrême droite, et les conséquences d’une potentielle accession au pouvoir. Les arguments sont clairs et étayés et c’est très agréable.J’ai aussi apprécié la dernière partie, sur l’importance de s’investir en tant que citoyen pour faire vivre le dialogue et la démocratie '\n",
            " ------> est considere comme  negatif\n",
            "0.00010003606\n",
            "' J'ai laissé passé du temps avec de lire le 3ème tome, car j'avais trouvé \"Il était deux fois\" redondant avec le tome 1. Cela a été bénéfique, car j'ai eu plus de facilité à passer outre les répétitions de scènes de dépravation et de violence, qui ont tendance à me lasser, et j'ai pu apprécier le mécanisme de récit à 4 narratrices. '\n",
            " ------> est considere comme  negatif\n",
            "0.00011753146\n"
          ]
        }
      ]
    }
  ],
  "metadata": {
    "colab": {
      "name": "Copie de TP_DeepLearningM1TNSI.ipynb",
      "provenance": []
    },
    "kernelspec": {
      "display_name": "Python 3 (ipykernel)",
      "language": "python",
      "name": "python3"
    },
    "language_info": {
      "codemirror_mode": {
        "name": "ipython",
        "version": 3
      },
      "file_extension": ".py",
      "mimetype": "text/x-python",
      "name": "python",
      "nbconvert_exporter": "python",
      "pygments_lexer": "ipython3",
      "version": "3.11.7"
    }
  },
  "nbformat": 4,
  "nbformat_minor": 0
}